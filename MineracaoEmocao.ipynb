{
  "nbformat": 4,
  "nbformat_minor": 0,
  "metadata": {
    "colab": {
      "name": "MineracaoEmocao.ipynb",
      "provenance": [],
      "authorship_tag": "ABX9TyOSgU/8z3vdXHzjpyK9qpCo",
      "include_colab_link": true
    },
    "kernelspec": {
      "name": "python3",
      "display_name": "Python 3"
    },
    "language_info": {
      "name": "python"
    }
  },
  "cells": [
    {
      "cell_type": "markdown",
      "metadata": {
        "id": "view-in-github",
        "colab_type": "text"
      },
      "source": [
        "<a href=\"https://colab.research.google.com/github/Sandoque/MineracaoEmocao/blob/devprod/MineracaoEmocao.ipynb\" target=\"_parent\"><img src=\"https://colab.research.google.com/assets/colab-badge.svg\" alt=\"Open In Colab\"/></a>"
      ]
    },
    {
      "cell_type": "code",
      "execution_count": null,
      "metadata": {
        "id": "sD9nc-8xU9hq"
      },
      "outputs": [],
      "source": [
        "import nltk"
      ]
    },
    {
      "cell_type": "code",
      "source": [
        "nltk.download('stopwords')\n",
        "nltk.download('rslp')"
      ],
      "metadata": {
        "colab": {
          "base_uri": "https://localhost:8080/"
        },
        "id": "y4naFulPcHEn",
        "outputId": "f5fb1c24-8e81-4a8d-e67d-4704adc74527"
      },
      "execution_count": null,
      "outputs": [
        {
          "output_type": "stream",
          "name": "stderr",
          "text": [
            "[nltk_data] Downloading package stopwords to /root/nltk_data...\n",
            "[nltk_data]   Unzipping corpora/stopwords.zip.\n",
            "[nltk_data] Downloading package rslp to /root/nltk_data...\n",
            "[nltk_data]   Unzipping stemmers/rslp.zip.\n"
          ]
        },
        {
          "output_type": "execute_result",
          "data": {
            "text/plain": [
              "True"
            ]
          },
          "metadata": {},
          "execution_count": 6
        }
      ]
    },
    {
      "cell_type": "markdown",
      "source": [
        "## Pré-processamento dos textos"
      ],
      "metadata": {
        "id": "WBGMnp8xi_6W"
      }
    },
    {
      "cell_type": "markdown",
      "source": [
        "### Base de dados de frases"
      ],
      "metadata": {
        "id": "svbR98YodLpv"
      }
    },
    {
      "cell_type": "code",
      "source": [
        "base = [('eu sou admirada por muitos','alegria'),\n",
        "        ('me sinto completamente amado','alegria'),\n",
        "        ('amar e maravilhoso','alegria'),\n",
        "        ('estou me sentindo muito animado novamente','alegria'),\n",
        "        ('eu estou muito bem hoje','alegria'),\n",
        "        ('que belo dia para dirigir um carro novo','alegria'),\n",
        "        ('o dia está muito bonito','alegria'),\n",
        "        ('estou contente com o resultado do teste que fiz no dia de ontem','alegria'),\n",
        "        ('o amor e lindo','alegria'),\n",
        "        ('nossa amizade e amor vai durar para sempre', 'alegria'),\n",
        "        ('estou amedrontado', 'medo'),\n",
        "        ('ele esta me ameacando a dias', 'medo'),\n",
        "        ('isso me deixa apavorada', 'medo'),\n",
        "        ('este lugar e apavorante', 'medo'),\n",
        "        ('se perdermos outro jogo seremos eliminados e isso me deixa com pavor', 'medo'),\n",
        "        ('tome cuidado com o lobisomem', 'medo'),\n",
        "        ('se eles descobrirem estamos encrencados', 'medo'),\n",
        "        ('estou tremendo de medo', 'medo'),\n",
        "        ('eu tenho muito medo dele', 'medo'),\n",
        "        ('estou com medo do resultado dos meus testes', 'medo')]"
      ],
      "metadata": {
        "id": "XKEkTCWvXEmi"
      },
      "execution_count": null,
      "outputs": []
    },
    {
      "cell_type": "markdown",
      "source": [
        "### Lista de stopwords"
      ],
      "metadata": {
        "id": "wQEcdhgxdkfv"
      }
    },
    {
      "cell_type": "code",
      "source": [
        "stopwords = nltk.corpus.stopwords.words('portuguese')"
      ],
      "metadata": {
        "id": "7EF-rLi4an6v"
      },
      "execution_count": null,
      "outputs": []
    },
    {
      "cell_type": "markdown",
      "source": [
        "### Extração do radical das palavras (stemming) e remoção de stopwords"
      ],
      "metadata": {
        "id": "jkEBaxcGdbTN"
      }
    },
    {
      "cell_type": "code",
      "source": [
        "def aplica_stemmer(texto):\n",
        "  stemmer = nltk.stem.RSLPStemmer()\n",
        "  frases_stemming = []\n",
        "  for (palavras, emocao) in texto:\n",
        "    com_stemming = [str(stemmer.stem(p)) for p in palavras.split() if p not in stopwords]\n",
        "    frases_stemming.append((com_stemming, emocao))\n",
        "  return frases_stemming"
      ],
      "metadata": {
        "id": "EO44fbBxd1b2"
      },
      "execution_count": null,
      "outputs": []
    },
    {
      "cell_type": "markdown",
      "source": [
        "#### Lista de frases com stemming e sem stopwords"
      ],
      "metadata": {
        "id": "zMU9bqcthMjI"
      }
    },
    {
      "cell_type": "code",
      "source": [
        "frases_com_stemming = aplica_stemmer(base)"
      ],
      "metadata": {
        "id": "LMYNBwiOhNpY"
      },
      "execution_count": null,
      "outputs": []
    },
    {
      "cell_type": "code",
      "source": [
        "print(frases_com_stemming)"
      ],
      "metadata": {
        "colab": {
          "base_uri": "https://localhost:8080/"
        },
        "id": "hd_54mnNcNC6",
        "outputId": "1023886b-e4f7-4992-ad0c-f095c229f848"
      },
      "execution_count": null,
      "outputs": [
        {
          "output_type": "stream",
          "name": "stdout",
          "text": [
            "[(['admir', 'muit'], 'alegria'), (['sint', 'complet', 'am'], 'alegria'), (['am', 'maravilh'], 'alegria'), (['sent', 'anim', 'nov'], 'alegria'), (['bem', 'hoj'], 'alegria'), (['bel', 'dia', 'dirig', 'carr', 'nov'], 'alegria'), (['dia', 'bonit'], 'alegria'), (['cont', 'result', 'test', 'fiz', 'dia', 'ont'], 'alegria'), (['am', 'lind'], 'alegria'), (['amizad', 'am', 'vai', 'dur', 'sempr'], 'alegria'), (['amedront'], 'medo'), (['ameac', 'dia'], 'medo'), (['deix', 'apavor'], 'medo'), (['lug', 'apavor'], 'medo'), (['perd', 'outr', 'jog', 'elimin', 'deix', 'pav'], 'medo'), (['tom', 'cuid', 'lobisom'], 'medo'), (['descobr', 'encrenc'], 'medo'), (['trem', 'med'], 'medo'), (['med'], 'medo'), (['med', 'result', 'test'], 'medo')]\n"
          ]
        }
      ]
    },
    {
      "cell_type": "markdown",
      "source": [
        "## Listagem e tratamento de todas as palavras da base"
      ],
      "metadata": {
        "id": "4YG-rsYDS-sm"
      }
    },
    {
      "cell_type": "code",
      "source": [
        "def busca_palavras(frases):\n",
        "  todas_palavras = []\n",
        "  for (palavras, emocao) in frases:\n",
        "    todas_palavras.extend(palavras)\n",
        "  return todas_palavras\n"
      ],
      "metadata": {
        "id": "-sMw9W-mTITC"
      },
      "execution_count": null,
      "outputs": []
    },
    {
      "cell_type": "markdown",
      "source": [
        "#### Lista de palavras da base"
      ],
      "metadata": {
        "id": "c2d42oF0T_OT"
      }
    },
    {
      "cell_type": "code",
      "source": [
        "palavras = busca_palavras(frases_com_stemming)\n",
        "print(palavras)"
      ],
      "metadata": {
        "colab": {
          "base_uri": "https://localhost:8080/"
        },
        "id": "VJJn_RBJT3tN",
        "outputId": "3d8999c3-af14-4291-eafe-2e7f6cf65f25"
      },
      "execution_count": null,
      "outputs": [
        {
          "output_type": "stream",
          "name": "stdout",
          "text": [
            "['admir', 'muit', 'sint', 'complet', 'am', 'am', 'maravilh', 'sent', 'anim', 'nov', 'bem', 'hoj', 'bel', 'dia', 'dirig', 'carr', 'nov', 'dia', 'bonit', 'cont', 'result', 'test', 'fiz', 'dia', 'ont', 'am', 'lind', 'amizad', 'am', 'vai', 'dur', 'sempr', 'amedront', 'ameac', 'dia', 'deix', 'apavor', 'lug', 'apavor', 'perd', 'outr', 'jog', 'elimin', 'deix', 'pav', 'tom', 'cuid', 'lobisom', 'descobr', 'encrenc', 'trem', 'med', 'med', 'med', 'result', 'test']\n"
          ]
        }
      ]
    },
    {
      "cell_type": "markdown",
      "source": [
        "### Extração de palavras únicas"
      ],
      "metadata": {
        "id": "_UbgnabLUg1o"
      }
    },
    {
      "cell_type": "code",
      "source": [
        "def busca_frequencia(palavras):\n",
        "  palavras = nltk.FreqDist(palavras)\n",
        "  return palavras"
      ],
      "metadata": {
        "id": "jkC-ElvlVF2S"
      },
      "execution_count": null,
      "outputs": []
    },
    {
      "cell_type": "markdown",
      "source": [
        "#### Lista de palavras com a frequencia"
      ],
      "metadata": {
        "id": "lu-ySG_dVypG"
      }
    },
    {
      "cell_type": "code",
      "source": [
        "frequencia = busca_frequencia(palavras)\n",
        "print(frequencia.most_common(50))"
      ],
      "metadata": {
        "colab": {
          "base_uri": "https://localhost:8080/"
        },
        "id": "r6GZFNS4V245",
        "outputId": "fa216868-2264-4458-c867-8a8ff69ec1fb"
      },
      "execution_count": null,
      "outputs": [
        {
          "output_type": "stream",
          "name": "stdout",
          "text": [
            "[('am', 4), ('dia', 4), ('med', 3), ('nov', 2), ('result', 2), ('test', 2), ('deix', 2), ('apavor', 2), ('admir', 1), ('muit', 1), ('sint', 1), ('complet', 1), ('maravilh', 1), ('sent', 1), ('anim', 1), ('bem', 1), ('hoj', 1), ('bel', 1), ('dirig', 1), ('carr', 1), ('bonit', 1), ('cont', 1), ('fiz', 1), ('ont', 1), ('lind', 1), ('amizad', 1), ('vai', 1), ('dur', 1), ('sempr', 1), ('amedront', 1), ('ameac', 1), ('lug', 1), ('perd', 1), ('outr', 1), ('jog', 1), ('elimin', 1), ('pav', 1), ('tom', 1), ('cuid', 1), ('lobisom', 1), ('descobr', 1), ('encrenc', 1), ('trem', 1)]\n"
          ]
        }
      ]
    },
    {
      "cell_type": "markdown",
      "source": [
        "#### Remoção de palavras repetidas"
      ],
      "metadata": {
        "id": "WWiWC66cW_IP"
      }
    },
    {
      "cell_type": "code",
      "source": [
        "def busca_palavras_unicas(frequencia):\n",
        "  palavras_unicas = frequencia.keys()\n",
        "  return palavras_unicas"
      ],
      "metadata": {
        "id": "miQB7e-2Wvb2"
      },
      "execution_count": null,
      "outputs": []
    },
    {
      "cell_type": "markdown",
      "source": [
        "#### Lista de palavras unicas"
      ],
      "metadata": {
        "id": "kiJ_oC8DXtRr"
      }
    },
    {
      "cell_type": "code",
      "source": [
        "palavras_unicas = busca_palavras_unicas(frequencia)\n",
        "print(palavras_unicas)"
      ],
      "metadata": {
        "colab": {
          "base_uri": "https://localhost:8080/"
        },
        "id": "lwzBoR0hXwD9",
        "outputId": "e5a50a00-5aaa-4f10-81a4-bc6499e98e45"
      },
      "execution_count": null,
      "outputs": [
        {
          "output_type": "stream",
          "name": "stdout",
          "text": [
            "dict_keys(['admir', 'muit', 'sint', 'complet', 'am', 'maravilh', 'sent', 'anim', 'nov', 'bem', 'hoj', 'bel', 'dia', 'dirig', 'carr', 'bonit', 'cont', 'result', 'test', 'fiz', 'ont', 'lind', 'amizad', 'vai', 'dur', 'sempr', 'amedront', 'ameac', 'deix', 'apavor', 'lug', 'perd', 'outr', 'jog', 'elimin', 'pav', 'tom', 'cuid', 'lobisom', 'descobr', 'encrenc', 'trem', 'med'])\n"
          ]
        }
      ]
    },
    {
      "cell_type": "markdown",
      "source": [
        "### Extração de palavras/caracteristicas de cada frase"
      ],
      "metadata": {
        "id": "7fmxgge8acUB"
      }
    },
    {
      "cell_type": "code",
      "source": [
        "def extrator_palavras(documento):\n",
        "  doc = set(documento)\n",
        "  caracteristicas = {}\n",
        "  for palavras in palavras_unicas:\n",
        "    caracteristicas['%s' % palavras] = (palavras in doc)\n",
        "  return caracteristicas"
      ],
      "metadata": {
        "id": "Wqfurr9SaomL"
      },
      "execution_count": null,
      "outputs": []
    },
    {
      "cell_type": "markdown",
      "source": [
        "#### Lista com caracteristicas (True / False) de palavras"
      ],
      "metadata": {
        "id": "Cc6SgoHwbXsS"
      }
    },
    {
      "cell_type": "code",
      "source": [
        "caracteristicas_frase = extrator_palavras(['am', 'nov', 'dia'])\n",
        "print(caracteristicas_frase)"
      ],
      "metadata": {
        "colab": {
          "base_uri": "https://localhost:8080/"
        },
        "id": "80UKA5yobbgh",
        "outputId": "e8641ff2-2f41-4e6a-9a86-fdce42b809d7"
      },
      "execution_count": null,
      "outputs": [
        {
          "output_type": "stream",
          "name": "stdout",
          "text": [
            "{'admir': False, 'muit': False, 'sint': False, 'complet': False, 'am': True, 'maravilh': False, 'sent': False, 'anim': False, 'nov': True, 'bem': False, 'hoj': False, 'bel': False, 'dia': True, 'dirig': False, 'carr': False, 'bonit': False, 'cont': False, 'result': False, 'test': False, 'fiz': False, 'ont': False, 'lind': False, 'amizad': False, 'vai': False, 'dur': False, 'sempr': False, 'amedront': False, 'ameac': False, 'deix': False, 'apavor': False, 'lug': False, 'perd': False, 'outr': False, 'jog': False, 'elimin': False, 'pav': False, 'tom': False, 'cuid': False, 'lobisom': False, 'descobr': False, 'encrenc': False, 'trem': False, 'med': False}\n"
          ]
        }
      ]
    },
    {
      "cell_type": "markdown",
      "source": [
        "### Extração das palavras/caracteristicas de todas as frases"
      ],
      "metadata": {
        "id": "sITDuTQadBbO"
      }
    },
    {
      "cell_type": "code",
      "source": [
        "base_completa = nltk.apply_features(extrator_palavras, frases_com_stemming)\n",
        "print(base_completa)"
      ],
      "metadata": {
        "colab": {
          "base_uri": "https://localhost:8080/"
        },
        "id": "L-kC3t_KdEnT",
        "outputId": "1ebc6baf-7e4a-4b0e-d649-5d0faec32704"
      },
      "execution_count": null,
      "outputs": [
        {
          "output_type": "stream",
          "name": "stdout",
          "text": [
            "[({'admir': True, 'muit': True, 'sint': False, 'complet': False, 'am': False, 'maravilh': False, 'sent': False, 'anim': False, 'nov': False, 'bem': False, 'hoj': False, 'bel': False, 'dia': False, 'dirig': False, 'carr': False, 'bonit': False, 'cont': False, 'result': False, 'test': False, 'fiz': False, 'ont': False, 'lind': False, 'amizad': False, 'vai': False, 'dur': False, 'sempr': False, 'amedront': False, 'ameac': False, 'deix': False, 'apavor': False, 'lug': False, 'perd': False, 'outr': False, 'jog': False, 'elimin': False, 'pav': False, 'tom': False, 'cuid': False, 'lobisom': False, 'descobr': False, 'encrenc': False, 'trem': False, 'med': False}, 'alegria'), ({'admir': False, 'muit': False, 'sint': True, 'complet': True, 'am': True, 'maravilh': False, 'sent': False, 'anim': False, 'nov': False, 'bem': False, 'hoj': False, 'bel': False, 'dia': False, 'dirig': False, 'carr': False, 'bonit': False, 'cont': False, 'result': False, 'test': False, 'fiz': False, 'ont': False, 'lind': False, 'amizad': False, 'vai': False, 'dur': False, 'sempr': False, 'amedront': False, 'ameac': False, 'deix': False, 'apavor': False, 'lug': False, 'perd': False, 'outr': False, 'jog': False, 'elimin': False, 'pav': False, 'tom': False, 'cuid': False, 'lobisom': False, 'descobr': False, 'encrenc': False, 'trem': False, 'med': False}, 'alegria'), ...]\n"
          ]
        }
      ]
    }
  ]
}