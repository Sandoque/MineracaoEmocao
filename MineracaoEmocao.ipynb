{
  "nbformat": 4,
  "nbformat_minor": 0,
  "metadata": {
    "colab": {
      "name": "MineracaoEmocao.ipynb",
      "provenance": [],
      "mount_file_id": "1oDuxA2hXf-zPIUzWAOObNS2Qex_4UDdg",
      "authorship_tag": "ABX9TyN/Uup2AibKuLnH5TfyOclF",
      "include_colab_link": true
    },
    "kernelspec": {
      "name": "python3",
      "display_name": "Python 3"
    },
    "language_info": {
      "name": "python"
    }
  },
  "cells": [
    {
      "cell_type": "markdown",
      "metadata": {
        "id": "view-in-github",
        "colab_type": "text"
      },
      "source": [
        "<a href=\"https://colab.research.google.com/github/Sandoque/MineracaoEmocao/blob/devprod/MineracaoEmocao.ipynb\" target=\"_parent\"><img src=\"https://colab.research.google.com/assets/colab-badge.svg\" alt=\"Open In Colab\"/></a>"
      ]
    },
    {
      "cell_type": "code",
      "execution_count": 1,
      "metadata": {
        "id": "sD9nc-8xU9hq"
      },
      "outputs": [],
      "source": [
        "import nltk\n",
        "import pandas as pd"
      ]
    },
    {
      "cell_type": "code",
      "source": [
        "nltk.download('stopwords')\n",
        "nltk.download('rslp')"
      ],
      "metadata": {
        "colab": {
          "base_uri": "https://localhost:8080/"
        },
        "id": "y4naFulPcHEn",
        "outputId": "395e0cca-955c-427b-9c86-950d6635cbeb"
      },
      "execution_count": 2,
      "outputs": [
        {
          "output_type": "stream",
          "name": "stderr",
          "text": [
            "[nltk_data] Downloading package stopwords to /root/nltk_data...\n",
            "[nltk_data]   Unzipping corpora/stopwords.zip.\n",
            "[nltk_data] Downloading package rslp to /root/nltk_data...\n",
            "[nltk_data]   Unzipping stemmers/rslp.zip.\n"
          ]
        },
        {
          "output_type": "execute_result",
          "data": {
            "text/plain": [
              "True"
            ]
          },
          "metadata": {},
          "execution_count": 2
        }
      ]
    },
    {
      "cell_type": "markdown",
      "source": [
        "## Pré-processamento dos textos"
      ],
      "metadata": {
        "id": "WBGMnp8xi_6W"
      }
    },
    {
      "cell_type": "markdown",
      "source": [
        "### Base de dados de frases"
      ],
      "metadata": {
        "id": "svbR98YodLpv"
      }
    },
    {
      "cell_type": "code",
      "source": [
        "base = [('eu sou admirada por muitos','alegria'),\n",
        "        ('me sinto completamente amado','alegria'),\n",
        "        ('amar e maravilhoso','alegria'),\n",
        "        ('estou me sentindo muito animado novamente','alegria'),\n",
        "        ('eu estou muito bem hoje','alegria'),\n",
        "        ('que belo dia para dirigir um carro novo','alegria'),\n",
        "        ('o dia está muito bonito','alegria'),\n",
        "        ('estou contente com o resultado do teste que fiz no dia de ontem','alegria'),\n",
        "        ('o amor e lindo','alegria'),\n",
        "        ('nossa amizade e amor vai durar para sempre', 'alegria'),\n",
        "        ('estou amedrontado', 'medo'),\n",
        "        ('ele esta me ameacando a dias', 'medo'),\n",
        "        ('isso me deixa apavorada', 'medo'),\n",
        "        ('este lugar e apavorante', 'medo'),\n",
        "        ('se perdermos outro jogo seremos eliminados e isso me deixa com pavor', 'medo'),\n",
        "        ('tome cuidado com o lobisomem', 'medo'),\n",
        "        ('se eles descobrirem estamos encrencados', 'medo'),\n",
        "        ('estou tremendo de medo', 'medo'),\n",
        "        ('eu tenho muito medo dele', 'medo'),\n",
        "        ('estou com medo do resultado dos meus testes', 'medo')]"
      ],
      "metadata": {
        "id": "XKEkTCWvXEmi"
      },
      "execution_count": 3,
      "outputs": []
    },
    {
      "cell_type": "code",
      "source": [
        "base_completa_url = '/content/drive/MyDrive/IAExpert/Trilha Processamento de Linguagem Natural/03 - Mineração de emoção em textos com python e NLTK/MineracaoEmocao/bases/base_completa.txt'\n",
        "base_completa = open(base_completa_url, 'r').readlines()"
      ],
      "metadata": {
        "id": "KyxK1GrpMZjv"
      },
      "execution_count": 50,
      "outputs": []
    },
    {
      "cell_type": "code",
      "source": [
        "def formata_base_csv(base_csv):\n",
        "  base = []\n",
        "  for linha in base_csv:\n",
        "    lista = linha.split(',')[0:2]\n",
        "    palavras = lista[0][2:-1]\n",
        "    sentimento = lista[1][1:-2]\n",
        "    elemento = (palavras, sentimento)\n",
        "    base.append(elemento)\n",
        "  return base"
      ],
      "metadata": {
        "id": "tPaD0K5QXzfi"
      },
      "execution_count": 49,
      "outputs": []
    },
    {
      "cell_type": "code",
      "source": [
        "base_treinamento = formata_base_csv(base_completa[:538])\n",
        "print(base_treinamento)"
      ],
      "metadata": {
        "colab": {
          "base_uri": "https://localhost:8080/"
        },
        "id": "14Skc7QZmmgn",
        "outputId": "7da4f914-82fa-44ce-eb28-4d1a71fc5eb6"
      },
      "execution_count": 45,
      "outputs": [
        {
          "output_type": "stream",
          "name": "stdout",
          "text": [
            "[('este trabalho e agradável', 'alegria'), ('gosto de ficar no seu aconchego', 'alegria'), ('fiz a adesão ao curso hoje', 'alegria'), ('eu sou admirada por muitos', 'alegria'), ('adoro como você e', 'alegria'), ('adoro seu cabelo macio', 'alegria'), ('adoro a cor dos seus olhos', 'alegria'), ('somo tão amáveis um com o outro', 'alegria'), ('sinto uma grande afeição por ele', 'alegria'), ('quero agradar meus filhos', 'alegria'), ('me sinto completamente amado', 'alegria'), ('eu amo você', 'alegria'), ('que grande alivio', 'alegria'), ('a dor esta amenizando finalmente', 'alegria'), ('acho que me apaixonei', 'alegria'), ('amar e maravilhoso', 'alegria'), ('estou me sentindo muito animada', 'alegria'), ('me sinto muito bem hoje', 'alegria'), ('como o luar e belo', 'alegria'), ('o dia esta muito bonito', 'alegria'), ('nossa como sou afortunado', 'alegria'), ('as maravilhas do mundo', 'alegria'), ('recebi muito carinho hoje do meus colegas', 'alegria'), ('estou me sentindo reconfortada hoje', 'alegria'), ('e muito bom estar com os amigos', 'alegria'), ('estou muito contente com o resultado dos testes', 'alegria'), ('essa pintura esta bem brilhante', 'alegria'), ('temos água em abundancia', 'alegria'), ('que roupa delicada', 'alegria'), ('você e um grande comediante', 'alegria'), ('que bondade a sua em vir aqui', 'alegria'), ('o amor e lindo', 'alegria'), ('nossa amizade vai durar para sempre', 'alegria'), ('estou eufórica com a noticia', 'alegria'), ('ele e realmente fiel a mim', 'alegria'), ('vou dar uma grande festa para comemorar meu aniversário', 'alegria'), ('graças a deus que eu enxerguei o certo', 'alegria'), ('essa e a melhor escolhas de todas', 'alegria'), ('o mais incrível e você minha bela', 'alegria'), ('e tão engraçado tentar explicar', 'alegria'), ('e emocionante estar neste lugar', 'alegria'), ('estou cativada pelo seu olhar', 'alegria'), ('estou loucamente apaixonada', 'alegria'), ('eu nunca tive duvidas', 'alegria'), ('estou rodeada pelo seu abraço', 'alegria'), ('eu vejo estrelas pelo caminho', 'alegria'), ('eu sinto o sol sempre que você esta por perto', 'alegria'), ('eu estou sorrindo de orelha a orelha', 'alegria'), ('isso vale a pena', 'alegria'), ('finalmente você colocou meu amor em primeiro lugar', 'alegria'), ('nós dançamos noite adentro', 'alegria'), ('seu amor e brilhante', 'alegria'), ('toquei muitos corações durante o meu caminho', 'alegria'), ('eu serei sua amiga e companheira', 'alegria'), ('você me traz de volta a vida', 'alegria'), ('você e como um sonho doce', 'alegria'), ('adoro este doce de frutas', 'alegria'), ('meu suco favorito', 'alegria'), ('estou agradecida pela ajuda', 'alegria'), ('e um enorme prazer ter você em nossa equipe', 'alegria'), ('trabalhar em equipe e o melhor', 'alegria'), ('me sinto flutuando no ar', 'alegria'), ('a brisa esta agradável hoje', 'alegria'), ('ótimo e compatível', 'alegria'), ('somos compatíveis um com o outro', 'alegria'), ('o órgão e compatível com o paciente', 'alegria'), ('estou contente fui aceita na faculdade', 'alegria'), ('fui aprovada no meu exame', 'alegria'), ('fui beneficiada pela minha empresa', 'alegria'), ('eu sou muito cativante', 'alegria'), ('estou contente com o apoio', 'alegria'), ('como este lugar e confortável', 'alegria'), ('e bom estar quente neste frio', 'alegria'), ('um elogio nunca e demais', 'alegria'), ('vou te chamar para comemorar', 'alegria'), ('e desejável a sua presença em nossa apresentação', 'alegria'), ('sou muito grata a você', 'alegria'), ('me dedico muito naquilo que faço', 'alegria'), ('estou completamente apaixonada ', 'alegria'), ('vamos agitar essa noite ', 'alegria'), ('você significa muito para mim', 'alegria'), ('vamos agir sem preconceitos e julgamentos', 'alegria'), ('finalmente completei a minha coleçã', 'maravilhos'), ('eu sou sua rainha ', 'alegria'), ('satisfatoriamente eu anuncio o vencedor dos jogos', 'alegria'), ('você me atrai facilmente ', 'alegria'), ('aquele rapaz e extremamente atraente', 'alegria'), ('sinto-me viva ', 'alegria'), ('sinto-me em paz ', 'alegria'), ('estamos tendo muito lucro', 'alegria'), ('muito bem esta tudo em ordem agora ', 'alegria'), ('podemos arrumar um emprego juntos ', 'alegria'), ('a arrumação esta terminad', 'que alívi'), ('o câncer e benigno ', 'alegria'), ('o amor e abundante', 'alegria'), ('vamos ser caridosos este natal', 'alegria'), ('com todo esse charme você irá atrair a todos', 'alegria'), ('nossa como você e charmoso querido ', 'alegria'), ('sou querida pelos meu amigos', 'alegria'), ('seja cuidadoso com os meus sentimentos', 'alegria'), ('estou comovido com tamanha caridade', 'alegria'), ('um chá quente e reconfortante', 'alegria'), ('que alegria ter vocês aqui ', 'alegria'), ('vamos aplaudir o vencedor ', 'alegria'), ('palmas para a aniversariante', 'alegria'), ('desejo a você tudo de bom', 'alegria'), ('hora de apreciar um bom vinho', 'alegria'), ('aprecio sua presença em minha escola', 'alegria'), ('anseio por seus próximos trabalhos', 'alegria'), ('maravilhoso jogo amistoso', 'alegria'), ('e ótimo que os ânimos tenham se apaziguado', 'alegria'), ('concretizei finalmente meu sonho', 'alegria'), ('você e abominável', 'desgosto'), ('abomino a maneira como você age', 'desgosto'), ('estou adoentado', 'desgosto'), ('meu pai esta adoentado', 'desgosto'), ('estamos todos doentes', 'desgosto'), ('essa situação e muito amarga', 'desgosto'), ('disse adeus amargamente', 'desgosto'), ('tenho antipatia por aquela pessoa', 'desgosto'), ('como pode ser tão antipática!', 'desgosto'), ('que horrível seu asqueroso', 'desgosto'), ('tenho aversão agente como você', 'desgosto'), ('isso tudo e só chateação', 'desgosto'), ('estou muito chateada com suas mentiras', 'desgosto'), ('tão desagradável', 'desgosto'), ('isso me desagrada completamente', 'desgosto'), ('te desagrada isso', 'desgosto'), ('estou com enjôos terríveis', 'desgosto'), ('todos estão enfermos', 'desgosto'), ('foi uma enfermidade terrível', 'desgosto'), ('isso e muito grave', 'desgosto'), ('não seja tão grosseiro', 'desgosto'), ('você fez uma manobra ilegal', 'desgosto'), ('sua indecent', 'não tem vergonha'), ('você e malvado com as crianças', 'desgosto'), ('que comentário maldoso', 'desgosto'), ('sem escrúpulos você manipula a tudo', 'desgosto'), ('sinto repulsa por você', 'desgosto'), ('e repulsivo a maneira como olha para as pessoas', 'desgosto'), ('estou indisposta', 'desgosto'), ('a indisposição me atacou hoje', 'desgosto'), ('acho que vou vomitar', 'desgosto'), ('tem muito vomito lá', 'desgosto'), ('que incomodo essa dor', 'desgosto'), ('não me incomode nunca mais', 'desgosto'), ('suas bobagens estão nos incomodando', 'desgosto'), ('que nojo olha toda essa sujeira', 'desgosto'), ('como isso está sujo', 'desgosto'), ('tenho náuseas só de lembrar', 'desgosto'), ('me sinto nauseada com o cheiro desta comida', 'desgosto'), ('você esta obstruindo a passagem de ar', 'desgosto'), ('você esta terrivelmente doente', 'desgosto'), ('olhe que feia esta roupa', 'desgosto'), ('que atitude deplorável', 'desgosto'), ('nossa como você e feio', 'desgosto'), ('muito mau tudo isso', 'desgosto'), ('estou desgostoso com você', 'desgosto'), ('você cortou o meu assunto', 'desgosto'), ('para que tanta chateação?', 'desgosto'), ('esse perfume e enjoativo', 'desgosto'), ('ser perigoso não nada bom', 'desgosto'), ('você e perigoso demais para minha filhas', 'desgosto'), ('que fetido este esgoto', 'desgosto'), ('que fedido você esta', 'desgosto'), ('que cachorro malcheiroso', 'desgosto'), ('hora que ultraje', 'desgosto'), ('e ultrajante da sua parte', 'desgosto'), ('situação desagradável essa', 'desgosto'), ('você só me da desgosto', 'desgosto'), ('tenho aversão a pessoas assim', 'desgosto'), ('antipatia e um mal da sociedade', 'desgosto'), ('que criatura abominável', 'desgosto'), ('e depressiva a maneira como você vê o mundo', 'desgosto'), ('me desagrada sua presença na festa', 'desgosto'), ('sinto asco dessa coisa', 'desgosto'), ('que hediondo!', 'desgosto'), ('vou golfar o cafe fora', 'desgosto'), ('hora que garota detestável!', 'desgosto'), ('estou nauseada', 'desgosto'), ('isso que você disse foi muito grave', 'desgosto'), ('não seja obsceno na frente das crianças', 'desgosto'), ('não seja rude com as visitas', 'desgosto'), ('esse assunto me da repulsa', 'desgosto'), ('que criança terrivelmente travessa', 'desgosto'), ('que criança mal educada', 'desgosto'), ('estou indisposta te dar o divorcio', 'desgosto'), ('tão patetic', 'não tem nada mais rude para dizer'), ('por motivo torp', 'com emprego de meio cruel e com impossibilidade de defesa para a vítim'), ('a inveja e tão vil e vergonhosa que ninguem se atreve a confessá-la', 'desgosto'), ('o miserável receio de ser sentimental e o mais vil de todos os receios modernos', 'desgosto'), ('travesso gato quando fica com saudades do dono mija no sapato', 'desgosto'), ('isso e um ato detestável e covarde', 'desgosto'), ('revelam apenas o que e destrutivo e detestável para o povo', 'desgosto'), ('não sei como e a vida de um patif', 'mais a de um homem honesto e abomináve'), ('há coisas que temos que suportar para não acharmos a vida insuportável', 'desgosto'), ('as injurias do tempo e as injustiças do homem', 'desgosto'), ('odioso e desumano', 'desgosto'), ('você não publicará conteúdo odient', 'pornográfico ou ameaçado'), ('rancoroso e reprimido', 'desgosto'), ('não há animal mais degradant', 'estúpi'), ('o virulento debate ente políticos', 'desgosto'), ('eu implor', 'não me matem'), ('tem certeza que não e perigoso?', 'medo'), ('não tenho certeza se e seguro', 'medo'), ('tenho que correr pra não me pegarem', 'medo'), ('socorro! ele queria roubar os meus doces!', 'medo'), ('esse cara está me perseguindo', 'medo'), ('não entro l', 'e um lugar muito perigos'), ('este lugar continua assustador', 'medo'), ('na selva tem muitos animais perigosos', 'medo'), ('avancem com cautela', 'medo'), ('este lugar está silencioso de mai', 'cuidado'), ('por favo', 'deixe-me viver'), ('vou ficar sem mesada se tirar nota baixa', 'medo'), ('parece que tem olhos nos vigiando', 'medo'), ('eu temo que a sentença do juiz possa ser negativa', 'medo'), ('mas essa missão e arriscada', 'medo'), ('salvem-se quem puder!', 'medo'), ('meu plano pode ser descoberto', 'medo'), ('não tive culp', 'juro não fui e'), ('tenho que tomar cuidado com o lobisomem', 'medo'), ('se eu não acha', 'ele vai descobrir a verdad'), ('meu deu', 'ele desapareceu'), ('tomara que eles não me vejam daqui!', 'medo'), ('mantenha isso em segred', 'se descobrirem estaremos ferrado'), ('por favo', 'me solt'), ('estou ouvindo passos atrás de mim', 'medo'), ('eu vou pedir socorro!', 'medo'), ('cuidado com as curvas na estrada', 'medo'), ('não sei nã', 'parece perigos'), ('estou tremendo de medo!', 'medo'), ('socorr', 'eu vou cair'), ('eu não vou ate a floresta negr', 'e muito perigos'), ('ouço passos na minha direção', 'medo'), ('acho que está arriscado de mais', 'medo'), ('vamos volta', 'e muito perigos'), ('fuj', 'se não acabaremos morto'), ('receio por não me livrar desta situação', 'medo'), ('socorro! ele está armado!', 'medo'), ('ei cuidad', 'você vai bater no poste'), ('socorr', 'nós estamos afundand'), ('e seri', 'cuidado com essa arma'), ('os tubarões estão atacando!', 'medo'), ('sinto arrepios quando fico sozinho no escuro', 'medo'), ('calm', 'eu não estou com o dinheir'), ('eu acho que estou sendo enganado', 'medo'), ('ligeir', 'temos que fugir depress'), ('tem um crocodilo selvagem vindo para cá', 'medo'), ('se ficarmos quietos eles não vão nos achar', 'medo'), ('fuja! o tigre parece faminto', 'medo'), ('estou sem saíd', 'preciso de um milagr'), ('tire isso de mim! socorro!', 'medo'), ('não sei nada', 'vou me afogar'), ('não tenho certeza se e seguro', 'medo'), ('vou apanhar se meus pais verem meu boletim', 'medo'), ('não consigo sair daqui!', 'medo'), ('se sair tão tard', 'poderei ser assaltad'), ('não me deixe por favor!', 'medo'), ('esper', 'não pode me largar aqui sozinh'), ('temo pela sua segurança', 'medo'), ('eu te entrego o dinheir', 'por favor não me mate'), ('ele vai levar todo o meu dinheiro', 'medo'), ('não dirija tão rápido assim', 'medo'), ('me descobrira', 'irão me prender'), ('só espero que não me façam nenhum mal', 'medo'), ('vou me afoga', 'me ajudem a sair da águ'), ('não estaremos a salvo aqui', 'medo'), ('não quero nem pensar no que pode acontecer', 'medo'), ('nessa cidade e uma desgraça atrás da outra', 'medo'), ('alguem esta me ligand', 'estou assustad'), ('isso não e remedi', 'não me mate'), ('eu não confio nel', 'tenho que ter cautel'), ('muita cautela', 'medo'), ('vou ser descobert', 'meu deu'), ('receio que terei de ir', 'medo'), ('a noite e muito perigosa', 'medo'), ('estou estremecendo com essa casa', 'medo'), ('olha aquela criatura se movendo monstruosamente', 'medo'), ('não agüento este suspense', 'medo'), ('afugente os cães', 'medo'), ('estou chocado e amedrontado com este assassinato brutal', 'medo'), ('e preciso afugenta com ímpeto este medo do inferno', 'medo'), ('seu políticos usam suas forças para afugentar e amedrontar o povo', 'medo'), ('o objetivo disso e apenas me amedrontar mais', 'medo'), ('isso me apavora', 'medo'), ('ele a feriu profundamente', 'raiva'), ('vou despejar minha cólera em você', 'raiva'), ('me sinto atormentado', 'raiva'), ('não me contrarie', 'raiva'), ('vou destruir tudo  que foi construído', 'raiva'), ('não consigo terminar este trabalh', 'e muito frustrant'), ('me frustra a sua presença aqui', 'raiva'), ('esta comida me parece muito ruim', 'raiva'), ('você me destrói', 'raiva'), ('estamos separados', 'raiva'), ('estou odiando este vestido', 'raiva'), ('não pude comprar meu celular hoje', 'raiva'), ('ela e uma garota ruim', 'raiva'), ('estivemos em um show horroroso', 'raiva'), ('o ingresso estava muito caro', 'raiva'), ('se eu estragar tudo vai por água a baixo', 'raiva'), ('não possuo dinheiro algum', 'raiva'), ('sou muito pobre', 'raiva'), ('vai prejudicar a todos esta nova medida', 'raiva'), ('ficou ridículo', 'raiva'), ('este sapato esta muito apertado', 'raiva'), ('a musica e uma ofensa aos meus ouvidos', 'raiva'), ('não consigo terminar uma tarefa muito difícil', 'raiva'), ('reprovei em minha graduação', 'raiva'), ('estou muito chateado com tudo', 'raiva'), ('eu odeio em você', 'raiva'), ('e um desprazer conhecê-lo', 'raiva'), ('estou desperdiçando minhas ferias', 'raiva'), ('e muito ruim este jogo', 'raiva'), ('vamos ter muito rancor pela frente', 'raiva'), ('não achei que seria tão terrível', 'raiva'), ('vou vetar o orçamento ao cliente', 'raiva'), ('meus pais não consentiram nosso casamento', 'raiva'), ('eu odiei este perfume', 'raiva'), ('seu descaso e frustrante', 'raiva'), ('me sinto completamente amarga', 'raiva'), ('desprezo muito o seu trabalho', 'raiva'), ('estamos descontentes por nossa família', 'raiva'), ('vou infernizar a sua empresa', 'raiva'), ('estou furioso com estes valores', 'raiva'), ('obrigaram o rapaz a sair', 'raiva'), ('como ele pode deixar de lado?', 'raiva'), ('são apenas injurias sobre mim', 'raiva'), ('estou enfurecido com a situação dessa empresa', 'raiva'), ('estou com o diabo no corpo', 'raiva'), ('isso foi diabólico', 'raiva'), ('tenho aversão à gente chata', 'raiva'), ('não vou perdoar sua traição', 'raiva'), ('esse dinheiro sujo e corrupto', 'raiva'), ('eles me crucificam o tempo todo', 'raiva'), ('eu vou enlouquecer com todo este barulho', 'raiva'), ('não agüento todo esse assedio', 'raiva'), ('cólera do dragão', 'raiva'), ('isso e ridículo!', 'raiva'), ('da próxima ve', 'vou inventar tudo sozinh'), ('seus tolos! deixaram ele escapar!', 'raiva'), ('jamais te perdoarei', 'raiva'), ('o que e isso? outra multa', 'raiva'), ('você passou dos limites!', 'raiva'), ('sente-se e cale a boca', 'raiva'), ('ingratosvermesvocês me pagam!', 'raiva'), ('saiam da da', 'se não arranco vocês dai'), ('você já me causou problemas suficientes', 'raiva'), ('isso foi a gota d’agua', 'raiva'), ('o que você tem com isso?', 'raiva'), ('não vejo a hora de me livrar de você', 'raiva'), ('já entendi a jogada seus safados!', 'raiva'), ('você não merece piedade', 'raiva'), ('saia de perto de mim', 'raiva'), ('suma daqu', 'ou arranco seu couro'), ('estou revoltado com essa situação', 'raiva'), ('seu idiota!', 'raiva'), ('nã', 'eu não vou te emprestar dinheiro'), ('você não passa de um cafajeste! vai embora', 'raiva'), ('pare de frescura e vá trabalhar', 'raiva'), ('eles merecem uma lição', 'raiva'), ('ainda estou muito bravo com você', 'raiva'), ('eu preciso surrar aquela chantagista', 'raiva'), ('olha o que você fez! derramou!', 'raiva'), ('você está pedindo pra apanhar!', 'raiva'), ('me deixa em paz!', 'raiva'), ('morra maldit', 'morra'), ('você e mais irritante de perto', 'raiva'), ('e bom fechar o bico', 'raiva'), ('magicamente você me surpreendeu', 'surpresa'), ('e imenso esse globo', 'surpresa'), ('isso e tremendamente interessante', 'surpresa'), ('meu bilhete for sortead', 'inacreditável'), ('um assalto a mão armada!', 'surpresa'), ('incríve', 'cabe em qualquer lugar'), ('você por aqui?', 'surpresa'), ('não dá pra acreditar no que ela me contou', 'surpresa'), ('os convidados já estão chegando!', 'surpresa'), ('puxa vida! nunca nos livramos de alguem tão depressa', 'surpresa'), ('micha carteira sumi', 'eu estava com ela na mã'), ('oh! um disco voador', 'surpresa'), ('amigo', 'que bela surpresa'), ('nunca pensei que veria isso e perto', 'surpresa'), ('nem acredito que comi tanto', 'surpresa'), ('não acredito que veio me ver', 'surpresa'), ('não acredito que e  tão descarado', 'surpresa'), ('me surpreende sua falta de tato', 'surpresa'), ('o predio onde eles moravam desabou!', 'surpresa'), ('inacreditável um bolo tão grande', 'surpresa'), ('e serio mesmo? não dá pra acreditar', 'surpresa'), ('como assim não vai ao nosso encontro?', 'surpresa'), ('como assim não tem ninguem em casa?', 'surpresa'), ('u', 'mas para onde ele foi?'), ('por essa eu não esperava', 'surpresa'), ('noss', 'olha só que mergulh'), ('minha esposa está grávida!', 'surpresa'), ('meu dinheiro sumiu!', 'surpresa'), ('e verdade que os dois terminaram?!?', 'surpresa'), ('caramb', 'nem vi você chega'), ('noss', 'como pode alguem cozinhar tão mal'), ('nossa que incrível', 'surpresa'), ('a fórmula sumiu!', 'surpresa'), ('eu nem acredito que já estou terminando o curso', 'surpresa'), ('não acredito que esta aqui comigo novamente', 'surpresa'), ('está escondendo algo de nós!', 'surpresa'), ('como assi', 'ainda não terminou a taref'), ('pensei que já estivesse pronta!', 'surpresa'), ('opa! quem apagou a luz?', 'surpresa'), ('caramba! aonde vai tão rápido?', 'surpresa'), ('estamos seguindo o caminho errado!', 'surpresa'), ('quatro reais o litro da gasolina!', 'surpresa'), ('me assustei ao vê-lo desse jeito!', 'surpresa'), ('minha mãe está grávid', 'acredita nisso'), ('parece mentira você ter crescido tanto', 'surpresa'), ('me surpreende sua imaginação', 'surpresa'), ('suas roupas são realmente lindas', 'surpresa'), ('com consegue ser tão bela?', 'surpresa'), ('essa e realmente uma casa deslumbrante', 'surpresa'), ('superou minhas expectativas', 'surpresa'), ('e admirável a maneira como se comporta', 'surpresa'), ('isso e realmente chocante', 'surpresa'), ('algumas noticias me surpreenderam no noticiário', 'surpresa'), ('surpreendente sua festa', 'surpresa'), ('estou tremendo de alegria', 'surpresa'), ('chocou grande parte do mundo', 'surpresa'), ('eu ficaria muito espantado com a sua vinda', 'surpresa'), ('ele e admirável', 'surpresa'), ('sua beleza me surpreendeu', 'surpresa'), ('seus olhos são surpreendentemente verdes', 'surpresa'), ('os políticos se surpreendem quando alguem acredita neles', 'surpresa'), ('estou perplexa com essas denuncias', 'surpresa'), ('fiquei perplexo com suas palavras', 'surpresa'), ('estou abismado com sua prosa', 'surpresa'), ('eu ficaria realmente abismado se me dissessem isso', 'surpresa'), ('o grupo foi surpreendido enquanto lavava o carro', 'surpresa'), ('estou boquiaberto com as imagens', 'surpresa'), ('estou boquiaberto com essas suas palavras', 'surpresa'), ('esse quadro e maravilhoso', 'surpresa'), ('este carro me deixou maravilhado', 'surpresa'), ('estou maravilhada', 'surpresa'), ('essa expectativa esta me matando', 'surpresa'), ('vou caminhar sempre na expectativa de encontrá-lo', 'surpresa'), ('você emudece minhas palavras', 'surpresa'), ('minhas palavras vão emudecer se não parar de me surpreender', 'surpresa'), ('a mulher e um efeito deslumbrante da natureza', 'surpresa'), ('estou deslumbrada com essas jóias', 'surpresa'), ('isso e romântico e deslumbrante', 'surpresa'), ('isso pode ser surpreendentemente deslumbrante', 'surpresa'), ('trabalho deslumbrante', 'surpresa'), ('essas pessoas são esplêndida', 'surpresa'), ('e esplendido como o ceu se encontra no momento', 'surpresa'), ('e um carro fantástico', 'surpresa'), ('um edifício realmente fantástico', 'surpresa'), ('por favor não me abandone', 'tristeza'), ('não quero ficar sozinha', 'tristeza'), ('não me deixe sozinha', 'tristeza'), ('estou abatida', 'tristeza'), ('ele esta todo abatido', 'tristeza'), ('tão triste suas palavras', 'tristeza'), ('seu amor não e mais meu', 'tristeza'), ('estou aborrecida', 'tristeza'), ('isso vai me aborrecer', 'tristeza'), ('estou com muita aflição', 'tristeza'), ('me aflige o modo como fala', 'tristeza'), ('estou em agonia com meu intimo', 'tristeza'), ('não quero fazer nada', 'tristeza'), ('me sinto ansiosa e tensa', 'tristeza'), ('não consigo parar de chorar', 'tristeza'), ('não consigo segurar as lagrimas', 'tristeza'), ('e muita dor perder um ente querido', 'tristeza'), ('estou realmente arrependida', 'tristeza'), ('acho que o carma volt', 'pois agora sou eu quem sofr'), ('você não cumpriu suas promessas', 'tristeza'), ('me sinto amargurada', 'tristeza'), ('coitado esta tão triste', 'tristeza'), ('já e tarde de mais', 'tristeza'), ('nosso amor acabou', 'tristeza'), ('essa noite machuca só para mim', 'tristeza'), ('eu não estou mais no seu coração', 'tristeza'), ('você mudou comigo', 'tristeza'), ('quando eu penso em você realmente dói', 'tristeza'), ('como se fosse nada você vê minhas lagrimas', 'tristeza'), ('você disse cruelmente que não se arrependeu', 'tristeza'), ('eu nunca mais vou te ver', 'tristeza'), ('ela esta com depressão', 'tristeza'), ('a depressão aflige as pessoas', 'tristeza'), ('estar depressivo e muito ruim', 'tristeza'), ('estou derrotada e deprimida depois deste dia', 'tristeza'), ('e comovente te ver dessa maneira', 'tristeza'), ('e comovente ver o que os filhos do brasil passam', 'tristeza'), ('como me sinto culpada', 'tristeza'), ('estou abatida', 'tristeza'), ('a ansiedade tomou conta de mim', 'tristeza'), ('as pessoas não gostam do meu jeito', 'tristeza'), ('adeus passamos bons momentos juntos', 'tristeza'), ('sinto sua falta', 'tristeza'), ('ele não gostou da minha comida', 'tristeza'), ('estou sem dinheiro para a comida', 'tristeza'), ('queria que fosse o ultimo dia da minha vida', 'tristeza'), ('você está com vergonha de mim', 'tristeza'), ('ela não aceitou a minha proposta', 'tristeza'), ('era o meu ultimo centavo', 'tristeza'), ('reprovei de ano na faculdade', 'tristeza'), ('afinal você só sabe me desfazer', 'tristeza'), ('eu falhei em tudo nessa vida', 'tristeza'), ('eu fui muito humilhado', 'tristeza'), ('e uma história muito triste', 'tristeza'), ('ninguem acredita em mim', 'tristeza'), ('eu não sirvo para nada mesmo', 'tristeza'), ('drog', 'não faço nada direit'), ('sofrimento em dobro na minha vida', 'tristeza'), ('fui demitida essa semana', 'tristeza'), ('as crianças sofrem ainda mais que os adultos', 'tristeza'), ('pra mim um dia e rui', 'o outro e pio'), ('de repente perdi o apetite', 'tristeza'), ('oh que dia infeliz', 'tristeza'), ('estamos afundados em contas', 'tristeza'), ('nem um milagre pode nos salvar', 'tristeza'), ('só me resta a esperança', 'tristeza'), ('pior que isso não pode ficar', 'tristeza'), ('meu salário e baixo', 'tristeza'), ('não passei no vestibular', 'tristeza'), ('ninguem se importa comigo', 'tristeza'), ('ninguem lembrou do meu aniversário', 'tristeza'), ('tenho tanto azar', 'tristeza'), ('o gosto da vingança e amargo', 'tristeza'), ('sou uma mulher amargurada depois de que você me deixou', 'tristeza'), ('estou desanimada com a vida', 'tristeza'), ('e um desanimo só coitadinha', 'tristeza'), ('a derrota e depressiva', 'tristeza'), ('discriminar e desumano', 'tristeza'), ('que desanimo', 'tristeza'), ('e uma desonra para o pais', 'tristeza'), ('a preocupação deveria nos levar a ação não a depressão', 'tristeza'), ('passamos ao desalento e a loucura', 'tristeza'), ('aquele que nunca viu a tristeza nunca reconhecerá a alegria', 'tristeza'), ('cuidado com a tristeza ela e um vicio', \"tristeza'\")]\n"
          ]
        }
      ]
    },
    {
      "cell_type": "code",
      "source": [
        "base_teste = formata_base_csv(base_completa[538:])\n",
        "print(base_teste)"
      ],
      "metadata": {
        "colab": {
          "base_uri": "https://localhost:8080/"
        },
        "id": "AlYWAHgAotyw",
        "outputId": "2eeadec5-4ac7-4d49-d986-202c659cac9d"
      },
      "execution_count": 46,
      "outputs": [
        {
          "output_type": "stream",
          "name": "stdout",
          "text": [
            "[('não precisei pagar o ingresso', 'alegria'), ('se eu ajeitar tudo fica bem', 'alegria'), ('minha fortuna ultrapassa a sua', 'alegria'), ('sou muito afortunado', 'alegria'), ('e benefico para todos esta nova medida', 'alegria'), ('ficou lindo', 'alegria'), ('achei esse sapato muito simpático', 'alegria'), ('estou ansiosa pela sua chegada', 'alegria'), ('congratulações pelo seu aniversário', 'alegria'), ('delicadamente ele a colocou para dormir', 'alegria'), ('a musica e linda', 'alegria'), ('sem musica eu não vivo', 'alegria'), ('conclui uma tarefa muito difícil', 'alegria'), ('conclui minha graduação', 'alegria'), ('estou muito contente com tudo', 'alegria'), ('eu confio em você', 'alegria'), ('e um prazer conhecê-lo', 'alegria'), ('o coleguismo de vocês e animador', 'alegria'), ('estou aproveitando as ferias', 'alegria'), ('vamos aproveitar as ferias', 'alegria'), ('e muito divertido este jogo', 'alegria'), ('vamos ter muita diversão', 'alegria'), ('não achei que me divertiria tanto assim', 'alegria'), ('vou consentir o orçamento ao cliente', 'alegria'), ('com o consentimento dos meus pais podemos nos casar', 'alegria'), ('eu adorei este perfume', 'alegria'), ('sua bondade e cativante', 'alegria'), ('estou despreocupada', 'alegria'), ('não me preocupo com o que aconteceu', 'alegria'), ('me sinto completamente segura', 'alegria'), ('estimo muito o seu trabalho', 'alegria'), ('somos estimados por nossa família', 'alegria'), ('concretizamos nossa ideia', 'alegria'), ('nosso ideal foi alcançado', 'alegria'), ('estamos muito felizes juntos', 'alegria'), ('estou tão animada com os preparativos para o casamento', 'alegria'), ('você será muito amado meu filho', 'alegria'), ('os apaixonados são maravilhosos', 'alegria'), ('agradeço imensamente o seu apoio nestes dias', 'alegria'), ('esta comida me parece muito atraente', 'alegria'), ('você me completa', 'alegria'), ('poderemos completar o projeto hoje!', 'alegria'), ('estamos namorando', 'alegria'), ('estou namorando este vestido a um tempo', 'alegria'), ('pude comprar meu celular hoje', 'alegria'), ('e um deleite poder compartilhar minhas vitórias', 'alegria'), ('ela e um boa garota', 'alegria'), ('estivemos em um ótimo show', 'alegria'), ('o mundo e feio como o pecado', 'desgosto'), ('a coisa mais difícil de esconder e aquilo que não existe', 'desgosto'), ('você errou feio aquele gol', 'desgosto'), ('nunca vou me casar sou muito feia', 'desgosto'), ('os golpes da adversidade são terrivelmente amargos', 'desgosto'), ('os homem ficam terrivelmente chatos', 'desgosto'), ('abominavelmente convencido', 'desgosto'), ('terrivelmente irritado', 'desgosto'), ('as instituições publicas estão terrivelmente decadentes', 'desgosto'), ('a população viveu em isolamento por muito tempo', 'desgosto'), ('estou terrivelmente preocupada', 'desgosto'), ('o nacionalismo e uma doença infantil', 'desgosto'), ('se me es antipático a minha negação esta pronta', 'desgosto'), ('muitos documentários sobre esse casal antipático', 'desgosto'), ('sua beleza não desfaça sua antipatia', 'desgosto'), ('esta e uma experiência desagradável', 'desgosto'), ('desagradável estrago nos banheiros', 'desgosto'), ('o mais irritante no amor e que se trata de um crime que precisa de um cúmplice', 'desgosto'), ('a situação nos causa grande incomodo', 'desgosto'), ('estou preocupado com o incomodo na garganta', 'desgosto'), ('simplesmente não quero amolação da policia', 'desgosto'), ('você e uma criaturinha muito impertinente', 'desgosto'), ('o peso e a dor da vida', 'desgosto'), ('me arrependo amargamente de minhas ações', 'desgosto'), ('o destino e cruel e os homens não são dignos de compaixão', 'desgosto'), ('o ódio conduz ao isolamento cruel e ao desespero', 'desgosto'), ('encerrou com o massacre mais repudiável e asqueroso que se conhece', 'desgosto'), ('de mal gosto e asqueroso', 'desgosto'), ('tudo e inserto neste mundo hediondo', 'desgosto'), ('o crime de corrupção e um crime hediondo', 'desgosto'), ('o rio esta fetido e de cor escura', 'desgosto'), ('muito lixo no rio o deixa malcheiroso', 'desgosto'), ('existe uma laranja podre no grupo e já desconfiamos quem e', 'desgosto'), ('foi de repente estou machucado e me sentindo enjoado', 'desgosto'), ('eu fiquei enojado', 'desgosto'), ('daqui alguns meses vou embora deste pais que já estou nauseado', 'desgosto'), ('que abominável esse montro!', 'medo'), ('vamos alarmar a todos sobre a situação', 'medo'), ('estou amedrontada', 'medo'), ('estou com muito medo da noite', 'medo'), ('ele esta me ameaçando a dias', 'medo'), ('quanta angustia', 'medo'), ('estou angustiada', 'medo'), ('angustiadamente vou sair e casa', 'medo'), ('isso me deixa apavorada', 'medo'), ('você esta me apavorando', 'medo'), ('estou desconfiada de você', 'medo'), ('não confio em você', 'medo'), ('ate o cachorro está apavorado', 'medo'), ('estou assustado com as ações do meu colega', 'medo'), ('agora se sente humilhad', 'apavorad'), ('assustou a população e provocou mortes', 'medo'), ('estou com dificuldades para respirar e muito assustado', 'medo'), ('os policiais se assustaram quando o carro capotou', 'medo'), ('o trabalhador e assombrado pelo temor do desemprego', 'medo'), ('este lugar e mal assombrado', 'medo'), ('estou assombrado pela crise financeira', 'medo'), ('mesmo aterrorizado lembro de você', 'medo'), ('aterrorizado e suando frio', 'medo'), ('um grupo de elefantes selvagens tem aterrorizado vilas', 'medo'), ('me sinto intimidada pela sua presença', 'medo'), ('tenho medo de ser advertida novamente', 'medo'), ('estou correndo o risco de ser advertido', 'medo'), ('estou correndo riscos de saúde', 'medo'), ('os riscos são reais', 'medo'), ('podemos perder muito dinheiro com essa investida', 'medo'), ('socorr', 'fui intimado a depo'), ('fui notificado e estou com medo de perde a guarda da minha filha', 'medo'), ('estou angustiada com meus filhos na rua', 'medo'), ('e abominável o que fazem com os animais', 'medo'), ('foi terrível o tigre quase o matou', 'medo'), ('me advertiram sobre isso', 'medo'), ('ate que enfi', 'não agüentava mais te espera'), ('eu quero meu dinheiro de volta agora!', 'raiva'), ('eu odeio a escola!', 'raiva'), ('vou fazer picadinho de você', 'raiva'), ('detesto trabalhar no verão', 'raiva'), ('quero minha comid', 'e quero agora'), ('melhor você recolher minhas compras agora!', 'raiva'), ('quero descer agora sua maluca', 'raiva'), ('vou reclamar com o gerente!', 'raiva'), ('vai engolir o que disse!', 'raiva'), ('ele me ridiculariza diante de todos', 'raiva'), ('não quero mais saber de você', 'raiva'), ('vejo você na cadeia safado!', 'raiva'), ('agora vou ter que pagar mais isso ainda!', 'raiva'), ('saia logo do banheiro!', 'raiva'), ('suba já para o seu quarto!', 'raiva'), ('eu falei para calar a boca seu idiota!', 'raiva'), ('eu disse para você cair fora!', 'raiva'), ('não agüento mais que fiquem me culpando sem motivo!', 'raiva'), ('não suporto olhar na sua cara!', 'raiva'), ('eu não sou um elefante', 'raiva'), ('juro que se olhar pra mim eu o mato!', 'raiva'), ('cheg', 'não quero saber mais deste assunt'), ('como pode ser tão burro?', 'raiva'), ('não me aborreça seu moleque', 'raiva'), ('não quero me aborrecer com estas bobagens', 'raiva'), ('ele me agrediu!', 'raiva'), ('eu amaldiçôo você e a sua família', 'raiva'), ('não me amole', 'raiva'), ('não venha me amolar', 'raiva'), ('isso tudo e uma tormenta', 'raiva'), ('eu vou matar você', 'raiva'), ('para que simplificar se você pode sempre complicar', 'raiva'), ('isso esta me enlouquecendo', 'raiva'), ('estou furiosa com você', 'raiva'), ('isso mesmo fique furioso', 'raiva'), ('esses livros são magníficos', 'surpresa'), ('esse vinho e magnífico', 'surpresa'), ('seria magnífico ver o esperaculo', 'surpresa'), ('o casamento foi estupendo', 'surpresa'), ('e um jogador bárbaro estupendo', 'surpresa'), ('esse dia esta excelente', 'surpresa'), ('o cantor estava excelente', 'surpresa'), ('o universo e assombroso', 'surpresa'), ('o amor e sublime', 'surpresa'), ('sua sublime atuação', 'surpresa'), ('e formidável meu caro walter', 'surpresa'), ('como e formidável a presença de todos', 'surpresa'), ('e formidável ter a quem dizer adeus', 'surpresa'), ('e um conselheiro formidável o seu', 'surpresa'), ('o artigo foi formidável', 'surpresa'), ('pica pau e um destaque no imaginário brasileiro', 'surpresa'), ('ah! o absoluto do imaginário', 'surpresa'), ('isso foi surreal', 'surpresa'), ('uma historia completamente surreal', 'surpresa'), ('essas pinturas beiram o surreal', 'surpresa'), ('você nem acreditam de tão surreal', 'surpresa'), ('incrível!', 'surpresa'), ('fiquei pasma com tudo isso', 'surpresa'), ('você me deixa pasmo', 'surpresa'), ('estou admirado com a sua astucia', 'surpresa'), ('que bela surpresa você me fez', 'surpresa'), ('não acredito que fez isso!', 'surpresa'), ('isso foi apavorante', 'surpresa'), ('isso tão de repente', 'surpresa'), ('estou chocada com isso', 'surpresa'), ('estou surpresa e desconsertada', 'surpresa'), ('esta realmente deslumbrante querida', 'surpresa'), ('fiquei completamente sem plavras', 'surpresa'), ('e espantoso o modo como ele nos olha', 'surpresa'), ('incrivel você estar aqui', 'surpresa'), ('que fantástica festa minha querida', 'surpresa'), ('isso tudo e um erro', 'tristeza'), ('eu sou errada eu sou errante', 'tristeza'), ('tenho muito dó do cachorro', 'tristeza'), ('e dolorida a perda de um filho', 'tristeza'), ('essa tragedia vai nos abalar para sempre', 'tristeza'), ('perdi meus filhos', 'tristeza'), ('perdi meu curso', 'tristeza'), ('sou só uma chorona', 'tristeza'), ('você e um chorão', 'tristeza'), ('se arrependimento matasse', 'tristeza'), ('me sinto deslocado em sala de aula', 'tristeza'), ('foi uma passagem fúnebre', 'tristeza'), ('nossa condolências e tristeza a sua perda', 'tristeza'), ('desanim', 'rai'), ('vivo te desanimando', 'tristeza'), ('estou desanimado', 'tristeza'), ('imperador sanguinári', 'depravado e temeros'), ('meu ser esta em agonia', 'tristeza'), ('este atrito entre nos tem que acabar', 'tristeza'), ('a escuridão desola meu ser', 'tristeza'), ('sua falsa preocupação', 'tristeza'), ('sua falsidade me entristece', 'tristeza'), ('quem esta descontente com os outros esta descontente consigo próprio', 'tristeza'), ('a torcida esta descontente com a demissão do tecnico', 'tristeza'), ('estou bastante aborrecido com o jornal', 'tristeza'), ('me sinto solitário e entediado', 'tristeza'), ('a vida e solitária para aqueles que não são falsos', 'tristeza'), ('como com compulsão depois da depressão', 'tristeza'), ('estou me desencorajando a viver', 'tristeza'), ('ele desencoraja minhas vontades', 'tristeza'), ('isso vai deprimindo por dentro', 'tristeza'), ('acho que isso e defeituoso', 'tristeza'), ('os remedios me derrubam na cama', 'tristeza'), ('a depressão vai me derrubar', 'tristeza'), ('suas desculpas são falsas', 'tristeza'), ('não magoe as pessoas', 'tristeza')]\n"
          ]
        }
      ]
    },
    {
      "cell_type": "markdown",
      "source": [
        "### Lista de stopwords"
      ],
      "metadata": {
        "id": "wQEcdhgxdkfv"
      }
    },
    {
      "cell_type": "code",
      "source": [
        "stopwords = nltk.corpus.stopwords.words('portuguese')"
      ],
      "metadata": {
        "id": "7EF-rLi4an6v"
      },
      "execution_count": 8,
      "outputs": []
    },
    {
      "cell_type": "markdown",
      "source": [
        "### Extração do radical das palavras (stemming) e remoção de stopwords"
      ],
      "metadata": {
        "id": "jkEBaxcGdbTN"
      }
    },
    {
      "cell_type": "code",
      "source": [
        "def aplica_stemmer(texto):\n",
        "  stemmer = nltk.stem.RSLPStemmer()\n",
        "  frases_stemming = []\n",
        "  for (palavras, emocao) in texto:\n",
        "    com_stemming = [str(stemmer.stem(p)) for p in palavras.split() if p not in stopwords]\n",
        "    frases_stemming.append((com_stemming, emocao))\n",
        "  return frases_stemming"
      ],
      "metadata": {
        "id": "EO44fbBxd1b2"
      },
      "execution_count": 9,
      "outputs": []
    },
    {
      "cell_type": "markdown",
      "source": [
        "#### Lista de frases com stemming e sem stopwords"
      ],
      "metadata": {
        "id": "zMU9bqcthMjI"
      }
    },
    {
      "cell_type": "code",
      "source": [
        "frases_com_stemming = aplica_stemmer(base)"
      ],
      "metadata": {
        "id": "LMYNBwiOhNpY"
      },
      "execution_count": 10,
      "outputs": []
    },
    {
      "cell_type": "code",
      "source": [
        "print(frases_com_stemming)"
      ],
      "metadata": {
        "colab": {
          "base_uri": "https://localhost:8080/"
        },
        "id": "hd_54mnNcNC6",
        "outputId": "0cbe2615-b6fb-4c47-9329-41c909acb9e4"
      },
      "execution_count": 11,
      "outputs": [
        {
          "output_type": "stream",
          "name": "stdout",
          "text": [
            "[(['admir', 'muit'], 'alegria'), (['sint', 'complet', 'am'], 'alegria'), (['am', 'maravilh'], 'alegria'), (['sent', 'anim', 'nov'], 'alegria'), (['bem', 'hoj'], 'alegria'), (['bel', 'dia', 'dirig', 'carr', 'nov'], 'alegria'), (['dia', 'bonit'], 'alegria'), (['cont', 'result', 'test', 'fiz', 'dia', 'ont'], 'alegria'), (['am', 'lind'], 'alegria'), (['amizad', 'am', 'vai', 'dur', 'sempr'], 'alegria'), (['amedront'], 'medo'), (['ameac', 'dia'], 'medo'), (['deix', 'apavor'], 'medo'), (['lug', 'apavor'], 'medo'), (['perd', 'outr', 'jog', 'elimin', 'deix', 'pav'], 'medo'), (['tom', 'cuid', 'lobisom'], 'medo'), (['descobr', 'encrenc'], 'medo'), (['trem', 'med'], 'medo'), (['med'], 'medo'), (['med', 'result', 'test'], 'medo')]\n"
          ]
        }
      ]
    },
    {
      "cell_type": "code",
      "source": [
        "print(aplica_stemmer(base_treinamento))"
      ],
      "metadata": {
        "colab": {
          "base_uri": "https://localhost:8080/"
        },
        "id": "gePIWHxJXWQV",
        "outputId": "185df52c-d82d-4b90-d3b5-8dbe100dd0b9"
      },
      "execution_count": 12,
      "outputs": [
        {
          "output_type": "stream",
          "name": "stdout",
          "text": [
            "[(['trabalh', 'agrad'], 'alegria'), (['gost', 'fic', 'aconcheg'], 'alegria'), (['fiz', 'ades', 'curs', 'hoj'], 'alegria'), (['admir', 'muit'], 'alegria'), (['ador'], 'alegria'), (['ador', 'cabel', 'maci'], 'alegria'), (['ador', 'cor', 'olh'], 'alegria'), (['som', 'tão', 'am', 'outr'], 'alegria'), (['sint', 'grand', 'afe'], 'alegria'), (['quer', 'agrad', 'filh'], 'alegria'), (['sint', 'complet', 'am'], 'alegria'), (['amo'], 'alegria'), (['grand', 'alivi'], 'alegria'), (['dor', 'ameniz', 'final'], 'alegria'), (['ach', 'apaixon'], 'alegria'), (['am', 'maravilh'], 'alegria'), (['sent', 'anim'], 'alegria'), (['sint', 'bem', 'hoj'], 'alegria'), (['lu', 'bel'], 'alegria'), (['dia', 'bonit'], 'alegria'), (['afortun'], 'alegria'), (['maravilh', 'mund'], 'alegria'), (['receb', 'car', 'hoj', 'coleg'], 'alegria'), (['sent', 'reconfort', 'hoj'], 'alegria'), (['bom', 'amig'], 'alegria'), (['cont', 'result', 'test'], 'alegria'), (['pint', 'bem', 'brilh'], 'alegria'), (['águ', 'abundanc'], 'alegria'), (['roup', 'delic'], 'alegria'), (['grand', 'comedi'], 'alegria'), (['bondad', 'vir', 'aqu'], 'alegria'), (['am', 'lind'], 'alegria'), (['amizad', 'vai', 'dur', 'sempr'], 'alegria'), (['eufór', 'notic'], 'alegria'), (['real', 'fiel', 'mim'], 'alegria'), (['vou', 'dar', 'grand', 'fest', 'comemor', 'aniversári'], 'alegria'), (['graç', 'deu', 'enxerg', 'cert'], 'alegria'), (['melhor', 'escolh', 'tod'], 'alegria'), (['incr', 'bel'], 'alegria'), (['tão', 'engraç', 'tent', 'explic'], 'alegria'), (['emocion', 'nest', 'lug'], 'alegria'), (['cativ', 'olh'], 'alegria'), (['louc', 'apaixon'], 'alegria'), (['nunc', 'duvid'], 'alegria'), (['rode', 'abraç'], 'alegria'), (['vej', 'estrel', 'caminh'], 'alegria'), (['sint', 'sol', 'sempr', 'pert'], 'alegria'), (['sorr', 'orelh', 'orelh'], 'alegria'), (['val', 'pen'], 'alegria'), (['final', 'coloc', 'am', 'prim', 'lug'], 'alegria'), (['danç', 'noit', 'adentr'], 'alegria'), (['am', 'brilh'], 'alegria'), (['toq', 'muit', 'coraçã', 'dur', 'caminh'], 'alegria'), (['amig', 'companh'], 'alegria'), (['traz', 'volt', 'vid'], 'alegria'), (['sonh', 'doc'], 'alegria'), (['ador', 'doc', 'frut'], 'alegria'), (['suc', 'favorit'], 'alegria'), (['agradec', 'ajud'], 'alegria'), (['enorm', 'praz', 'ter', 'equip'], 'alegria'), (['trabalh', 'equip', 'melhor'], 'alegria'), (['sint', 'flutu', 'ar'], 'alegria'), (['bris', 'agrad', 'hoj'], 'alegria'), (['ótim', 'compat'], 'alegria'), (['compat', 'outr'], 'alegria'), (['órg', 'compat', 'paci'], 'alegria'), (['cont', 'aceit', 'faculdad'], 'alegria'), (['aprov', 'exam'], 'alegria'), (['benefici', 'empr'], 'alegria'), (['cativ'], 'alegria'), (['cont', 'apoi'], 'alegria'), (['lug', 'confort'], 'alegria'), (['bom', 'quent', 'nest', 'fri'], 'alegria'), (['elogi', 'nunc', 'demal'], 'alegria'), (['vou', 'cham', 'comemor'], 'alegria'), (['desej', 'presenç', 'apresent'], 'alegria'), (['grat'], 'alegria'), (['dedic', 'naquil', 'faç'], 'alegria'), (['complet', 'apaixon'], 'alegria'), (['vam', 'agit', 'noit'], 'alegria'), (['signif', 'mim'], 'alegria'), (['vam', 'agir', 'preconceit', 'julg'], 'alegria'), (['final', 'complet', 'coleçã'], 'maravilhos'), (['rainh'], 'alegria'), (['satisf', 'anunci', 'venc', 'jog'], 'alegria'), (['atr', 'facil'], 'alegria'), (['rapaz', 'extrem', 'atra'], 'alegria'), (['sinto-m', 'viv'], 'alegria'), (['sinto-m', 'paz'], 'alegria'), (['tend', 'lucr'], 'alegria'), (['bem', 'tud', 'ord', 'agor'], 'alegria'), (['pod', 'arrum', 'empreg', 'junt'], 'alegria'), (['arrum', 'terminad'], 'que alívi'), (['cânc', 'benign'], 'alegria'), (['am', 'abund'], 'alegria'), (['vam', 'carid', 'natal'], 'alegria'), (['tod', 'charm', 'irá', 'atra', 'tod'], 'alegria'), (['charm', 'quer'], 'alegria'), (['quer', 'amig'], 'alegria'), (['cuidad', 'sent'], 'alegria'), (['comov', 'tamanh', 'caridad'], 'alegria'), (['chá', 'quent', 'reconfort'], 'alegria'), (['alegr', 'ter', 'aqu'], 'alegria'), (['vam', 'aplaud', 'venc'], 'alegria'), (['palm', 'aniversari'], 'alegria'), (['desej', 'tud', 'bom'], 'alegria'), (['hor', 'apreci', 'bom', 'vinh'], 'alegria'), (['apreci', 'presenç', 'escol'], 'alegria'), (['ansei', 'próx', 'trabalh'], 'alegria'), (['maravilh', 'jog', 'amist'], 'alegria'), (['ótim', 'ânim', 'apazigu'], 'alegria'), (['concretiz', 'final', 'sonh'], 'alegria'), (['abomin'], 'desgosto'), (['abomin', 'man', 'age'], 'desgosto'), (['adoent'], 'desgosto'), (['pai', 'adoent'], 'desgosto'), (['tod', 'doent'], 'desgosto'), (['situ', 'amarg'], 'desgosto'), (['diss', 'adeu', 'amarg'], 'desgosto'), (['antipat', 'pesso'], 'desgosto'), (['pod', 'tão', 'antipática!'], 'desgosto'), (['horr', 'asquer'], 'desgosto'), (['avers', 'agent'], 'desgosto'), (['tud', 'chate'], 'desgosto'), (['chate', 'ment'], 'desgosto'), (['tão', 'desagrad'], 'desgosto'), (['desagr', 'complet'], 'desgosto'), (['desagr'], 'desgosto'), (['enjô', 'terr'], 'desgosto'), (['tod', 'enf'], 'desgosto'), (['enferm', 'terr'], 'desgosto'), (['grav'], 'desgosto'), (['tão', 'gross'], 'desgosto'), (['fez', 'manobr', 'ileg'], 'desgosto'), (['indecent'], 'não tem vergonha'), (['malv', 'crianç'], 'desgosto'), (['coment', 'mald'], 'desgosto'), (['escrúpul', 'manipul', 'tud'], 'desgosto'), (['sint', 'repuls'], 'desgosto'), (['repuls', 'man', 'olh', 'pesso'], 'desgosto'), (['indispost'], 'desgosto'), (['indispos', 'atac', 'hoj'], 'desgosto'), (['ach', 'vou', 'vomit'], 'desgosto'), (['vomit', 'lá'], 'desgosto'), (['incomod', 'dor'], 'desgosto'), (['incomod', 'nunc'], 'desgosto'), (['bob', 'incomod'], 'desgosto'), (['noj', 'olh', 'tod', 'suj'], 'desgosto'), (['suj'], 'desgosto'), (['náuse', 'lembr'], 'desgosto'), (['sint', 'nause', 'cheir', 'dest', 'com'], 'desgosto'), (['obstru', 'pass', 'ar'], 'desgosto'), (['terri', 'doent'], 'desgosto'), (['olh', 'fei', 'roup'], 'desgosto'), (['atitud', 'deplor'], 'desgosto'), (['fei'], 'desgosto'), (['mau', 'tud'], 'desgosto'), (['desgost'], 'desgosto'), (['cort', 'assunt'], 'desgosto'), (['tant', 'chateação?'], 'desgosto'), (['perfum', 'enjo'], 'desgosto'), (['perig', 'nad', 'bom'], 'desgosto'), (['perig', 'demal', 'filh'], 'desgosto'), (['fet', 'esgot'], 'desgosto'), (['fed'], 'desgosto'), (['cachorr', 'malcheir'], 'desgosto'), (['hor', 'ultraj'], 'desgosto'), (['ultraj', 'part'], 'desgosto'), (['situ', 'desagrad'], 'desgosto'), (['desgost'], 'desgosto'), (['avers', 'pesso', 'assim'], 'desgosto'), (['antipat', 'mal', 'sociedad'], 'desgosto'), (['criat', 'abomin'], 'desgosto'), (['depress', 'man', 'vê', 'mund'], 'desgosto'), (['desagr', 'presenç', 'fest'], 'desgosto'), (['sint', 'asc', 'dess', 'cois'], 'desgosto'), (['hediondo!'], 'desgosto'), (['vou', 'golf', 'caf'], 'desgosto'), (['hor', 'garot', 'detestável!'], 'desgosto'), (['nause'], 'desgosto'), (['diss', 'grav'], 'desgosto'), (['obscen', 'frent', 'crianç'], 'desgosto'), (['rud', 'visit'], 'desgosto'), (['assunt', 'repuls'], 'desgosto'), (['crianç', 'terri', 'travess'], 'desgosto'), (['crianç', 'mal', 'educ'], 'desgosto'), (['indispost', 'dar', 'divorci'], 'desgosto'), (['tão', 'patetic'], 'não tem nada mais rude para dizer'), (['motiv', 'torp'], 'com emprego de meio cruel e com impossibilidade de defesa para a vítim'), (['invej', 'tão', 'vil', 'vergonh', 'ning', 'atrev', 'confessá-l'], 'desgosto'), (['miser', 'recei', 'sentiment', 'vil', 'tod', 'recei', 'modern'], 'desgosto'), (['travess', 'gat', 'fic', 'saudad', 'don', 'mij', 'sapat'], 'desgosto'), (['ato', 'detest', 'cov'], 'desgosto'), (['revel', 'apen', 'destru', 'detest', 'pov'], 'desgosto'), (['sei', 'vid', 'patif'], 'mais a de um homem honesto e abomináve'), (['cois', 'suport', 'ach', 'vid', 'insuport'], 'desgosto'), (['injur', 'temp', 'injustiç', 'hom'], 'desgosto'), (['odi', 'desum'], 'desgosto'), (['public', 'conteúd', 'odient'], 'pornográfico ou ameaçado'), (['rancor', 'reprim'], 'desgosto'), (['animal', 'degradant'], 'estúpi'), (['virulent', 'debat', 'ent', 'polít'], 'desgosto'), (['impl'], 'não me matem'), (['cert', 'perigoso?'], 'medo'), (['cert', 'segur'], 'medo'), (['corr', 'pra', 'peg'], 'medo'), (['socorro!', 'quer', 'roub', 'doces!'], 'medo'), (['car', 'persegu'], 'medo'), (['entr', 'l'], 'e um lugar muito perigos'), (['lug', 'continu', 'assust'], 'medo'), (['selv', 'muit', 'animal', 'perig'], 'medo'), (['avanc', 'cautel'], 'medo'), (['lug', 'silenci', 'mai'], 'cuidado'), (['fav'], 'deixe-me viver'), (['vou', 'fic', 'mes', 'tir', 'not', 'baix'], 'medo'), (['parec', 'olh', 'vigi'], 'medo'), (['tem', 'sentenç', 'juiz', 'poss', 'nega'], 'medo'), (['miss', 'arrisc'], 'medo'), (['salvem-s', 'puder!'], 'medo'), (['plan', 'pod', 'descobert'], 'medo'), (['culp'], 'juro não fui e'), (['tom', 'cuid', 'lobisom'], 'medo'), (['ach'], 'ele vai descobrir a verdad'), (['deu'], 'ele desapareceu'), (['tom', 'vej', 'daqui!'], 'medo'), (['mantenh', 'segred'], 'se descobrirem estaremos ferrado'), (['fav'], 'me solt'), (['ouv', 'pass', 'atrás', 'mim'], 'medo'), (['vou', 'ped', 'socorro!'], 'medo'), (['cuid', 'curv', 'estr'], 'medo'), (['sei', 'nã'], 'parece perigos'), (['trem', 'medo!'], 'medo'), (['socorr'], 'eu vou cair'), (['vou', 'ate', 'florest', 'negr'], 'e muito perigos'), (['ouç', 'pass', 'direç'], 'medo'), (['ach', 'arrisc'], 'medo'), (['vam', 'volt'], 'e muito perigos'), (['fuj'], 'se não acabaremos morto'), (['recei', 'livr', 'dest', 'situ'], 'medo'), (['socorro!', 'armado!'], 'medo'), (['ei', 'cuidad'], 'você vai bater no poste'), (['socorr'], 'nós estamos afundand'), (['ser'], 'cuidado com essa arma'), (['tub', 'atacando!'], 'medo'), (['sint', 'arrepi', 'fic', 'so', 'escur'], 'medo'), (['calm'], 'eu não estou com o dinheir'), (['ach', 'send', 'engan'], 'medo'), (['lige'], 'temos que fugir depress'), (['crocodil', 'selv', 'vind', 'cá'], 'medo'), (['fic', 'quiet', 'vão', 'ach'], 'medo'), (['fuja!', 'tigr', 'parec', 'famint'], 'medo'), (['saíd'], 'preciso de um milagr'), (['tir', 'mim!', 'socorro!'], 'medo'), (['sei', 'nad'], 'vou me afogar'), (['cert', 'segur'], 'medo'), (['vou', 'apanh', 'pal', 'ver', 'boletim'], 'medo'), (['consig', 'sair', 'daqui!'], 'medo'), (['sair', 'tão', 'tard'], 'poderei ser assaltad'), (['deix', 'favor!'], 'medo'), (['esp'], 'não pode me largar aqui sozinh'), (['tem', 'seguranç'], 'medo'), (['entreg', 'dinhe'], 'por favor não me mate'), (['vai', 'lev', 'tod', 'dinh'], 'medo'), (['dirij', 'tão', 'rápid', 'assim'], 'medo'), (['descobr'], 'irão me prender'), (['esper', 'faç', 'nenhum', 'mal'], 'medo'), (['vou', 'afog'], 'me ajudem a sair da águ'), (['est', 'salv', 'aqu'], 'medo'), (['quer', 'pens', 'pod', 'acontec'], 'medo'), (['ness', 'cidad', 'desgr', 'atrás', 'outr'], 'medo'), (['algu', 'ligand'], 'estou assustad'), (['remed'], 'não me mate'), (['confi', 'nel'], 'tenho que ter cautel'), (['muit', 'cautel'], 'medo'), (['vou', 'descobert'], 'meu deu'), (['recei', 'ir'], 'medo'), (['noit', 'perig'], 'medo'), (['estremec', 'cas'], 'medo'), (['olh', 'criat', 'mov', 'monstruos'], 'medo'), (['agüent', 'suspens'], 'medo'), (['afug', 'cão'], 'medo'), (['choc', 'amedront', 'assassinat', 'brut'], 'medo'), (['precis', 'afugent', 'ímpet', 'med', 'infern'], 'medo'), (['polít', 'us', 'forç', 'afugent', 'amedront', 'pov'], 'medo'), (['obje', 'diss', 'apen', 'amedront'], 'medo'), (['apav'], 'medo'), (['fer', 'profund'], 'raiva'), (['vou', 'despej', 'cól'], 'raiva'), (['sint', 'atorment'], 'raiva'), (['contrari'], 'raiva'), (['vou', 'destru', 'tud', 'constru'], 'raiva'), (['consig', 'termin', 'trabalh'], 'e muito frustrant'), (['frustr', 'presenç', 'aqu'], 'raiva'), (['com', 'parec', 'ruim'], 'raiva'), (['destró'], 'raiva'), (['separ'], 'raiva'), (['odi', 'vest'], 'raiva'), (['pud', 'compr', 'celul', 'hoj'], 'raiva'), (['garot', 'ruim'], 'raiva'), (['show', 'horror'], 'raiva'), (['ingress', 'car'], 'raiva'), (['estrag', 'tud', 'vai', 'águ', 'baix'], 'raiva'), (['possu', 'dinh', 'algum'], 'raiva'), (['pobr'], 'raiva'), (['vai', 'prejudic', 'tod', 'nov', 'med'], 'raiva'), (['fic', 'ridícul'], 'raiva'), (['sapat', 'apert'], 'raiva'), (['music', 'ofens', 'ouv'], 'raiva'), (['consig', 'termin', 'taref', 'difícil'], 'raiva'), (['reprov', 'gradu'], 'raiva'), (['chate', 'tud'], 'raiva'), (['odei'], 'raiva'), (['despraz', 'conhecê-l'], 'raiva'), (['desperdiç', 'fer'], 'raiva'), (['ruim', 'jog'], 'raiva'), (['vam', 'ter', 'ranc', 'frent'], 'raiva'), (['ach', 'tão', 'terr'], 'raiva'), (['vou', 'vet', 'orç', 'client'], 'raiva'), (['pal', 'consent', 'cas'], 'raiva'), (['odi', 'perfum'], 'raiva'), (['descas', 'frustr'], 'raiva'), (['sint', 'complet', 'amarg'], 'raiva'), (['desprez', 'trabalh'], 'raiva'), (['descont', 'famíl'], 'raiva'), (['vou', 'infern', 'empr'], 'raiva'), (['furi', 'val'], 'raiva'), (['obrig', 'rapaz', 'sair'], 'raiva'), (['pod', 'deix', 'lado?'], 'raiva'), (['apen', 'injur', 'sobr', 'mim'], 'raiva'), (['enfurec', 'situ', 'dess', 'empr'], 'raiva'), (['diab', 'corp'], 'raiva'), (['diaból'], 'raiva'), (['avers', 'gent', 'chat'], 'raiva'), (['vou', 'perdo', 'tra'], 'raiva'), (['dinh', 'suj', 'corrupt'], 'raiva'), (['crucific', 'temp', 'tod'], 'raiva'), (['vou', 'enlouquec', 'tod', 'barulh'], 'raiva'), (['agüent', 'tod', 'assedi'], 'raiva'), (['cól', 'drag'], 'raiva'), (['ridículo!'], 'raiva'), (['próx', 've'], 'vou inventar tudo sozinh'), (['tolos!', 'deix', 'escapar!'], 'raiva'), (['jamal', 'perdo'], 'raiva'), (['isso?', 'outr', 'mult'], 'raiva'), (['pass', 'limites!'], 'raiva'), (['sente-s', 'cal', 'boc'], 'raiva'), (['ingratosvermesvoc', 'pagam!'], 'raiva'), (['sai'], 'se não arranco vocês dai'), (['caus', 'problem', 'sufici'], 'raiva'), (['got', 'd’agu'], 'raiva'), (['isso?'], 'raiva'), (['vej', 'hor', 'livr'], 'raiva'), (['entend', 'jog', 'safados!'], 'raiva'), (['merec', 'piedad'], 'raiva'), (['sai', 'pert', 'mim'], 'raiva'), (['sum', 'daqu'], 'ou arranco seu couro'), (['revolt', 'situ'], 'raiva'), (['idiota!'], 'raiva'), (['nã'], 'eu não vou te emprestar dinheiro'), (['pass', 'cafajeste!', 'vai', 'emb'], 'raiva'), (['par', 'fresc', 'vá', 'trabalh'], 'raiva'), (['merec', 'liç'], 'raiva'), (['aind', 'brav'], 'raiva'), (['precis', 'surr', 'chantag'], 'raiva'), (['olh', 'fez!', 'derramou!'], 'raiva'), (['ped', 'pra', 'apanhar!'], 'raiva'), (['deix', 'paz!'], 'raiva'), (['morr', 'maldit'], 'morra'), (['irrit', 'pert'], 'raiva'), (['bom', 'fech', 'bic'], 'raiva'), (['magic', 'surpreend'], 'surpresa'), (['imens', 'glob'], 'surpresa'), (['tremend', 'interess'], 'surpresa'), (['bilhet', 'sortead'], 'inacreditável'), (['assalt', 'mão', 'armada!'], 'surpresa'), (['incrív'], 'cabe em qualquer lugar'), (['aqui?'], 'surpresa'), (['dá', 'pra', 'acredit', 'cont'], 'surpresa'), (['convid', 'chegando!'], 'surpresa'), (['pux', 'vida!', 'nunc', 'livr', 'algu', 'tão', 'depress'], 'surpresa'), (['mich', 'cart', 'sum'], 'eu estava com ela na mã'), (['oh!', 'disc', 'voad'], 'surpresa'), (['amig'], 'que bela surpresa'), (['nunc', 'pens', 'ver', 'pert'], 'surpresa'), (['acredit', 'com', 'tant'], 'surpresa'), (['acredit', 'vei', 'ver'], 'surpresa'), (['acredit', 'tão', 'descar'], 'surpresa'), (['surpreend', 'falt', 'tat'], 'surpresa'), (['predi', 'ond', 'mor', 'desabou!'], 'surpresa'), (['inacredit', 'bol', 'tão', 'grand'], 'surpresa'), (['seri', 'mesmo?', 'dá', 'pra', 'acredit'], 'surpresa'), (['assim', 'vai', 'encontro?'], 'surpresa'), (['assim', 'ning', 'casa?'], 'surpresa'), (['u'], 'mas para onde ele foi?'), (['esper'], 'surpresa'), (['nos'], 'olha só que mergulh'), (['esp', 'grávida!'], 'surpresa'), (['dinh', 'sumiu!'], 'surpresa'), (['verdad', 'doi', 'terminaram?!?'], 'surpresa'), (['caramb'], 'nem vi você chega'), (['nos'], 'como pode alguem cozinhar tão mal'), (['incr'], 'surpresa'), (['fórmul', 'sumiu!'], 'surpresa'), (['acredit', 'termin', 'curs'], 'surpresa'), (['acredit', 'aqu', 'comig', 'nov'], 'surpresa'), (['escond', 'alg', 'nós!'], 'surpresa'), (['ass'], 'ainda não terminou a taref'), (['pens', 'pronta!'], 'surpresa'), (['opa!', 'apag', 'luz?'], 'surpresa'), (['caramba!', 'aond', 'vai', 'tão', 'rápido?'], 'surpresa'), (['segu', 'caminh', 'errado!'], 'surpresa'), (['quatr', 'real', 'litr', 'gasolina!'], 'surpresa'), (['assust', 'vê-l', 'dess', 'jeito!'], 'surpresa'), (['mãe', 'grávid'], 'acredita nisso'), (['parec', 'ment', 'ter', 'cresc', 'tant'], 'surpresa'), (['surpreend', 'imagin'], 'surpresa'), (['roup', 'real', 'lind'], 'surpresa'), (['conseg', 'tão', 'bela?'], 'surpresa'), (['real', 'cas', 'deslumbr'], 'surpresa'), (['super', 'expect'], 'surpresa'), (['admir', 'man', 'comport'], 'surpresa'), (['real', 'choc'], 'surpresa'), (['algum', 'notic', 'surpreend', 'notici'], 'surpresa'), (['surpreend', 'fest'], 'surpresa'), (['trem', 'alegr'], 'surpresa'), (['choc', 'grand', 'part', 'mund'], 'surpresa'), (['fic', 'espant', 'vind'], 'surpresa'), (['admir'], 'surpresa'), (['bel', 'surpreend'], 'surpresa'), (['olh', 'surpreend', 'verd'], 'surpresa'), (['polít', 'surpreend', 'algu', 'acredit', 'nel'], 'surpresa'), (['perplex', 'denunc'], 'surpresa'), (['fiq', 'perplex', 'palavr'], 'surpresa'), (['abism', 'pros'], 'surpresa'), (['fic', 'real', 'abism', 'diss'], 'surpresa'), (['grup', 'surpreend', 'enquant', 'lav', 'carr'], 'surpresa'), (['boquiabert', 'imag'], 'surpresa'), (['boquiabert', 'palavr'], 'surpresa'), (['quadr', 'maravilh'], 'surpresa'), (['carr', 'deix', 'maravilh'], 'surpresa'), (['maravilh'], 'surpresa'), (['expect', 'mat'], 'surpresa'), (['vou', 'caminh', 'sempr', 'expect', 'encontrá-l'], 'surpresa'), (['emudec', 'palavr'], 'surpresa'), (['palavr', 'vão', 'emudec', 'par', 'surpreend'], 'surpresa'), (['mulh', 'efeit', 'deslumbr', 'natur'], 'surpresa'), (['deslumbr', 'jói'], 'surpresa'), (['român', 'deslumbr'], 'surpresa'), (['pod', 'surpreend', 'deslumbr'], 'surpresa'), (['trabalh', 'deslumbr'], 'surpresa'), (['pesso', 'esplênd'], 'surpresa'), (['esplend', 'ceu', 'encontr', 'moment'], 'surpresa'), (['carr', 'fant'], 'surpresa'), (['edifíci', 'real', 'fant'], 'surpresa'), (['favor', 'abandon'], 'tristeza'), (['quer', 'fic', 'so'], 'tristeza'), (['deix', 'so'], 'tristeza'), (['abat'], 'tristeza'), (['tod', 'abat'], 'tristeza'), (['tão', 'trist', 'palavr'], 'tristeza'), (['am'], 'tristeza'), (['aborrec'], 'tristeza'), (['vai', 'aborrec'], 'tristeza'), (['muit', 'afl'], 'tristeza'), (['aflig', 'mod', 'fal'], 'tristeza'), (['agon', 'intim'], 'tristeza'), (['quer', 'faz', 'nad'], 'tristeza'), (['sint', 'ansi', 'tens'], 'tristeza'), (['consig', 'par', 'chor'], 'tristeza'), (['consig', 'segur', 'lagr'], 'tristeza'), (['muit', 'dor', 'perd', 'ent', 'quer'], 'tristeza'), (['real', 'arrepend'], 'tristeza'), (['ach', 'carm', 'volt'], 'pois agora sou eu quem sofr'), (['cumpr', 'promess'], 'tristeza'), (['sint', 'amargur'], 'tristeza'), (['coit', 'tão', 'trist'], 'tristeza'), (['tard'], 'tristeza'), (['am', 'acab'], 'tristeza'), (['noit', 'machuc', 'mim'], 'tristeza'), (['coraçã'], 'tristeza'), (['mud', 'comig'], 'tristeza'), (['pens', 'real', 'dói'], 'tristeza'), (['nad', 'vê', 'lagr'], 'tristeza'), (['diss', 'cruel', 'arrepend'], 'tristeza'), (['nunc', 'vou', 'ver'], 'tristeza'), (['depress'], 'tristeza'), (['depress', 'aflig', 'pesso'], 'tristeza'), (['depress', 'ruim'], 'tristeza'), (['derrot', 'deprim', 'dest', 'dia'], 'tristeza'), (['comov', 'ver', 'dess', 'man'], 'tristeza'), (['comov', 'ver', 'filh', 'brasil', 'pass'], 'tristeza'), (['sint', 'culp'], 'tristeza'), (['abat'], 'tristeza'), (['ansiedad', 'tom', 'cont', 'mim'], 'tristeza'), (['pesso', 'gost', 'jeit'], 'tristeza'), (['adeu', 'pass', 'bom', 'moment', 'junt'], 'tristeza'), (['sint', 'falt'], 'tristeza'), (['gost', 'com'], 'tristeza'), (['dinh', 'com'], 'tristeza'), (['quer', 'ult', 'dia', 'vid'], 'tristeza'), (['vergonh', 'mim'], 'tristeza'), (['aceit', 'propost'], 'tristeza'), (['ult', 'centav'], 'tristeza'), (['reprov', 'ano', 'faculdad'], 'tristeza'), (['afinal', 'sab', 'desfaz'], 'tristeza'), (['falh', 'tud', 'ness', 'vid'], 'tristeza'), (['humilh'], 'tristeza'), (['histór', 'trist'], 'tristeza'), (['ning', 'acredit', 'mim'], 'tristeza'), (['sirv', 'nad'], 'tristeza'), (['drog'], 'não faço nada direit'), (['sofr', 'dobr', 'vid'], 'tristeza'), (['demit', 'seman'], 'tristeza'), (['crianç', 'sofr', 'aind', 'adult'], 'tristeza'), (['pra', 'mim', 'dia', 'rui'], 'o outro e pio'), (['repent', 'perd', 'apetit'], 'tristeza'), (['oh', 'dia', 'infeliz'], 'tristeza'), (['afund', 'cont'], 'tristeza'), (['milagr', 'pod', 'salv'], 'tristeza'), (['rest', 'esperanç'], 'tristeza'), (['pi', 'pod', 'fic'], 'tristeza'), (['salári', 'baix'], 'tristeza'), (['pass', 'vestibul'], 'tristeza'), (['ning', 'import', 'comig'], 'tristeza'), (['ning', 'lembr', 'aniversári'], 'tristeza'), (['tant', 'azar'], 'tristeza'), (['gost', 'vinganç', 'amarg'], 'tristeza'), (['mulh', 'amargur', 'deix'], 'tristeza'), (['desanim', 'vid'], 'tristeza'), (['desan', 'coit'], 'tristeza'), (['derrot', 'depress'], 'tristeza'), (['discrimin', 'desum'], 'tristeza'), (['desan'], 'tristeza'), (['desonr', 'pal'], 'tristeza'), (['preocup', 'dev', 'lev', 'açã', 'depress'], 'tristeza'), (['pass', 'desalent', 'louc'], 'tristeza'), (['nunc', 'viu', 'trist', 'nunc', 'reconhec', 'alegr'], 'tristeza'), (['cuid', 'trist', 'vici'], 'tristeza')]\n"
          ]
        }
      ]
    },
    {
      "cell_type": "markdown",
      "source": [
        "## Listagem e tratamento de todas as palavras da base"
      ],
      "metadata": {
        "id": "4YG-rsYDS-sm"
      }
    },
    {
      "cell_type": "code",
      "source": [
        "def busca_palavras(frases):\n",
        "  todas_palavras = []\n",
        "  for (palavras, emocao) in frases:\n",
        "    todas_palavras.extend(palavras)\n",
        "  return todas_palavras\n"
      ],
      "metadata": {
        "id": "-sMw9W-mTITC"
      },
      "execution_count": 13,
      "outputs": []
    },
    {
      "cell_type": "markdown",
      "source": [
        "#### Lista de palavras da base"
      ],
      "metadata": {
        "id": "c2d42oF0T_OT"
      }
    },
    {
      "cell_type": "code",
      "source": [
        "palavras = busca_palavras(frases_com_stemming)"
      ],
      "metadata": {
        "id": "VJJn_RBJT3tN"
      },
      "execution_count": 14,
      "outputs": []
    },
    {
      "cell_type": "code",
      "source": [
        "print(palavras)"
      ],
      "metadata": {
        "colab": {
          "base_uri": "https://localhost:8080/"
        },
        "id": "UWAm9mxi6vdN",
        "outputId": "af924d86-9e9d-47d5-dd69-0be314cad44a"
      },
      "execution_count": 15,
      "outputs": [
        {
          "output_type": "stream",
          "name": "stdout",
          "text": [
            "['admir', 'muit', 'sint', 'complet', 'am', 'am', 'maravilh', 'sent', 'anim', 'nov', 'bem', 'hoj', 'bel', 'dia', 'dirig', 'carr', 'nov', 'dia', 'bonit', 'cont', 'result', 'test', 'fiz', 'dia', 'ont', 'am', 'lind', 'amizad', 'am', 'vai', 'dur', 'sempr', 'amedront', 'ameac', 'dia', 'deix', 'apavor', 'lug', 'apavor', 'perd', 'outr', 'jog', 'elimin', 'deix', 'pav', 'tom', 'cuid', 'lobisom', 'descobr', 'encrenc', 'trem', 'med', 'med', 'med', 'result', 'test']\n"
          ]
        }
      ]
    },
    {
      "cell_type": "markdown",
      "source": [
        "### Extração de palavras únicas"
      ],
      "metadata": {
        "id": "_UbgnabLUg1o"
      }
    },
    {
      "cell_type": "code",
      "source": [
        "def busca_frequencia(palavras):\n",
        "  palavras = nltk.FreqDist(palavras)\n",
        "  return palavras"
      ],
      "metadata": {
        "id": "jkC-ElvlVF2S"
      },
      "execution_count": 16,
      "outputs": []
    },
    {
      "cell_type": "markdown",
      "source": [
        "#### Lista de palavras com a frequencia"
      ],
      "metadata": {
        "id": "lu-ySG_dVypG"
      }
    },
    {
      "cell_type": "code",
      "source": [
        "frequencia = busca_frequencia(palavras)"
      ],
      "metadata": {
        "id": "r6GZFNS4V245"
      },
      "execution_count": 17,
      "outputs": []
    },
    {
      "cell_type": "code",
      "source": [
        "print(frequencia.most_common(50))"
      ],
      "metadata": {
        "colab": {
          "base_uri": "https://localhost:8080/"
        },
        "id": "kJPZeWFZ63Mb",
        "outputId": "e26dce62-6600-4057-93ac-50f662e2c1a4"
      },
      "execution_count": 18,
      "outputs": [
        {
          "output_type": "stream",
          "name": "stdout",
          "text": [
            "[('am', 4), ('dia', 4), ('med', 3), ('nov', 2), ('result', 2), ('test', 2), ('deix', 2), ('apavor', 2), ('admir', 1), ('muit', 1), ('sint', 1), ('complet', 1), ('maravilh', 1), ('sent', 1), ('anim', 1), ('bem', 1), ('hoj', 1), ('bel', 1), ('dirig', 1), ('carr', 1), ('bonit', 1), ('cont', 1), ('fiz', 1), ('ont', 1), ('lind', 1), ('amizad', 1), ('vai', 1), ('dur', 1), ('sempr', 1), ('amedront', 1), ('ameac', 1), ('lug', 1), ('perd', 1), ('outr', 1), ('jog', 1), ('elimin', 1), ('pav', 1), ('tom', 1), ('cuid', 1), ('lobisom', 1), ('descobr', 1), ('encrenc', 1), ('trem', 1)]\n"
          ]
        }
      ]
    },
    {
      "cell_type": "markdown",
      "source": [
        "#### Remoção de palavras repetidas"
      ],
      "metadata": {
        "id": "WWiWC66cW_IP"
      }
    },
    {
      "cell_type": "code",
      "source": [
        "def busca_palavras_unicas(frequencia):\n",
        "  palavras_unicas = frequencia.keys()\n",
        "  return palavras_unicas"
      ],
      "metadata": {
        "id": "miQB7e-2Wvb2"
      },
      "execution_count": 19,
      "outputs": []
    },
    {
      "cell_type": "markdown",
      "source": [
        "#### Lista de palavras unicas"
      ],
      "metadata": {
        "id": "kiJ_oC8DXtRr"
      }
    },
    {
      "cell_type": "code",
      "source": [
        "palavras_unicas = busca_palavras_unicas(frequencia)"
      ],
      "metadata": {
        "id": "lwzBoR0hXwD9"
      },
      "execution_count": 20,
      "outputs": []
    },
    {
      "cell_type": "code",
      "source": [
        "print(palavras_unicas)"
      ],
      "metadata": {
        "colab": {
          "base_uri": "https://localhost:8080/"
        },
        "id": "I9GPeJvT67-x",
        "outputId": "a21d1f99-6d09-4033-b73d-f6cb898a7052"
      },
      "execution_count": 21,
      "outputs": [
        {
          "output_type": "stream",
          "name": "stdout",
          "text": [
            "dict_keys(['admir', 'muit', 'sint', 'complet', 'am', 'maravilh', 'sent', 'anim', 'nov', 'bem', 'hoj', 'bel', 'dia', 'dirig', 'carr', 'bonit', 'cont', 'result', 'test', 'fiz', 'ont', 'lind', 'amizad', 'vai', 'dur', 'sempr', 'amedront', 'ameac', 'deix', 'apavor', 'lug', 'perd', 'outr', 'jog', 'elimin', 'pav', 'tom', 'cuid', 'lobisom', 'descobr', 'encrenc', 'trem', 'med'])\n"
          ]
        }
      ]
    },
    {
      "cell_type": "markdown",
      "source": [
        "### Extração de palavras/caracteristicas de cada frase"
      ],
      "metadata": {
        "id": "7fmxgge8acUB"
      }
    },
    {
      "cell_type": "code",
      "source": [
        "def extrator_palavras(documento):\n",
        "  doc = set(documento)\n",
        "  caracteristicas = {}\n",
        "  for palavras in palavras_unicas:\n",
        "    caracteristicas['%s' % palavras] = (palavras in doc)\n",
        "  return caracteristicas"
      ],
      "metadata": {
        "id": "Wqfurr9SaomL"
      },
      "execution_count": 22,
      "outputs": []
    },
    {
      "cell_type": "markdown",
      "source": [
        "#### Lista com caracteristicas (True / False) de palavras"
      ],
      "metadata": {
        "id": "Cc6SgoHwbXsS"
      }
    },
    {
      "cell_type": "code",
      "source": [
        "caracteristicas_frase = extrator_palavras(['am', 'nov', 'dia'])"
      ],
      "metadata": {
        "id": "80UKA5yobbgh"
      },
      "execution_count": 23,
      "outputs": []
    },
    {
      "cell_type": "code",
      "source": [
        "print(caracteristicas_frase)"
      ],
      "metadata": {
        "colab": {
          "base_uri": "https://localhost:8080/"
        },
        "id": "M3Gp4amv6_Uo",
        "outputId": "967ecdd2-14e0-43d6-fc93-08eee8942228"
      },
      "execution_count": 24,
      "outputs": [
        {
          "output_type": "stream",
          "name": "stdout",
          "text": [
            "{'admir': False, 'muit': False, 'sint': False, 'complet': False, 'am': True, 'maravilh': False, 'sent': False, 'anim': False, 'nov': True, 'bem': False, 'hoj': False, 'bel': False, 'dia': True, 'dirig': False, 'carr': False, 'bonit': False, 'cont': False, 'result': False, 'test': False, 'fiz': False, 'ont': False, 'lind': False, 'amizad': False, 'vai': False, 'dur': False, 'sempr': False, 'amedront': False, 'ameac': False, 'deix': False, 'apavor': False, 'lug': False, 'perd': False, 'outr': False, 'jog': False, 'elimin': False, 'pav': False, 'tom': False, 'cuid': False, 'lobisom': False, 'descobr': False, 'encrenc': False, 'trem': False, 'med': False}\n"
          ]
        }
      ]
    },
    {
      "cell_type": "markdown",
      "source": [
        "### Extração das palavras/caracteristicas de todas as frases"
      ],
      "metadata": {
        "id": "sITDuTQadBbO"
      }
    },
    {
      "cell_type": "code",
      "source": [
        "base_completa = nltk.apply_features(extrator_palavras, frases_com_stemming)"
      ],
      "metadata": {
        "id": "L-kC3t_KdEnT"
      },
      "execution_count": 25,
      "outputs": []
    },
    {
      "cell_type": "code",
      "source": [
        "print(base_completa)"
      ],
      "metadata": {
        "colab": {
          "base_uri": "https://localhost:8080/"
        },
        "id": "G7UTVj8J7CHx",
        "outputId": "513621ea-9b4e-4afb-a2ef-50ce7dbc26fc"
      },
      "execution_count": 26,
      "outputs": [
        {
          "output_type": "stream",
          "name": "stdout",
          "text": [
            "[({'admir': True, 'muit': True, 'sint': False, 'complet': False, 'am': False, 'maravilh': False, 'sent': False, 'anim': False, 'nov': False, 'bem': False, 'hoj': False, 'bel': False, 'dia': False, 'dirig': False, 'carr': False, 'bonit': False, 'cont': False, 'result': False, 'test': False, 'fiz': False, 'ont': False, 'lind': False, 'amizad': False, 'vai': False, 'dur': False, 'sempr': False, 'amedront': False, 'ameac': False, 'deix': False, 'apavor': False, 'lug': False, 'perd': False, 'outr': False, 'jog': False, 'elimin': False, 'pav': False, 'tom': False, 'cuid': False, 'lobisom': False, 'descobr': False, 'encrenc': False, 'trem': False, 'med': False}, 'alegria'), ({'admir': False, 'muit': False, 'sint': True, 'complet': True, 'am': True, 'maravilh': False, 'sent': False, 'anim': False, 'nov': False, 'bem': False, 'hoj': False, 'bel': False, 'dia': False, 'dirig': False, 'carr': False, 'bonit': False, 'cont': False, 'result': False, 'test': False, 'fiz': False, 'ont': False, 'lind': False, 'amizad': False, 'vai': False, 'dur': False, 'sempr': False, 'amedront': False, 'ameac': False, 'deix': False, 'apavor': False, 'lug': False, 'perd': False, 'outr': False, 'jog': False, 'elimin': False, 'pav': False, 'tom': False, 'cuid': False, 'lobisom': False, 'descobr': False, 'encrenc': False, 'trem': False, 'med': False}, 'alegria'), ...]\n"
          ]
        }
      ]
    },
    {
      "cell_type": "markdown",
      "source": [
        "## Classificando textos com o Naïve Bayes"
      ],
      "metadata": {
        "id": "aY6OrJNQ56rZ"
      }
    },
    {
      "cell_type": "markdown",
      "source": [
        "### Construindo a tabela de probabilidade\n"
      ],
      "metadata": {
        "id": "0sXqikOI6GMr"
      }
    },
    {
      "cell_type": "code",
      "source": [
        "classificador = nltk.NaiveBayesClassifier.train(base_completa)"
      ],
      "metadata": {
        "id": "Pafqg9bJ5_CB"
      },
      "execution_count": 27,
      "outputs": []
    },
    {
      "cell_type": "code",
      "source": [
        "print(classificador.labels())\n",
        "print(classificador.show_most_informative_features(5))"
      ],
      "metadata": {
        "colab": {
          "base_uri": "https://localhost:8080/"
        },
        "id": "_-tB3e1E74rb",
        "outputId": "0267ece0-b8b1-4530-b99c-2022eb98ec70"
      },
      "execution_count": 28,
      "outputs": [
        {
          "output_type": "stream",
          "name": "stdout",
          "text": [
            "['alegria', 'medo']\n",
            "Most Informative Features\n",
            "                     dia = True           alegri : medo   =      2.3 : 1.0\n",
            "                      am = False            medo : alegri =      1.6 : 1.0\n",
            "                     med = False          alegri : medo   =      1.4 : 1.0\n",
            "                     dia = False            medo : alegri =      1.3 : 1.0\n",
            "                  apavor = False          alegri : medo   =      1.2 : 1.0\n",
            "None\n"
          ]
        }
      ]
    },
    {
      "cell_type": "markdown",
      "source": [
        "### Testes"
      ],
      "metadata": {
        "id": "5ZJVf7o299Yx"
      }
    },
    {
      "cell_type": "code",
      "source": [
        "teste = 'estou com medo'\n",
        "\n",
        "teste_stemming = []\n",
        "stemmer = nltk.stem.RSLPStemmer()\n",
        "for (palavras) in teste.split():\n",
        "  com_stem = [p for p in palavras.split()]\n",
        "  teste_stemming.append(str(stemmer.stem(com_stem[0])))\n",
        "# print(teste_stemming)\n",
        "\n",
        "novo = extrator_palavras(teste_stemming)\n",
        "# print(novo)\n",
        "\n",
        "print(classificador.classify(novo))\n",
        "distribuicao = classificador.prob_classify(novo)\n",
        "for classe in distribuicao.samples():\n",
        "  print(\"%s: %f\" % (classe, distribuicao.prob(classe)))\n"
      ],
      "metadata": {
        "colab": {
          "base_uri": "https://localhost:8080/"
        },
        "id": "8Ff0BZH5-Ap3",
        "outputId": "ab5f290e-a8a0-4b8e-f55b-1b4252b7554e"
      },
      "execution_count": 29,
      "outputs": [
        {
          "output_type": "stream",
          "name": "stdout",
          "text": [
            "medo\n",
            "alegria: 0.041046\n",
            "medo: 0.958954\n"
          ]
        }
      ]
    }
  ]
}