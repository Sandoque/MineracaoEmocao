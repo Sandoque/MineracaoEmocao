{
  "nbformat": 4,
  "nbformat_minor": 0,
  "metadata": {
    "colab": {
      "name": "MineracaoEmocao.ipynb",
      "provenance": [],
      "authorship_tag": "ABX9TyMwH5QkKEDv4KwCjPTjlmri",
      "include_colab_link": true
    },
    "kernelspec": {
      "name": "python3",
      "display_name": "Python 3"
    },
    "language_info": {
      "name": "python"
    }
  },
  "cells": [
    {
      "cell_type": "markdown",
      "metadata": {
        "id": "view-in-github",
        "colab_type": "text"
      },
      "source": [
        "<a href=\"https://colab.research.google.com/github/Sandoque/MineracaoEmocao/blob/devprod/MineracaoEmocao.ipynb\" target=\"_parent\"><img src=\"https://colab.research.google.com/assets/colab-badge.svg\" alt=\"Open In Colab\"/></a>"
      ]
    },
    {
      "cell_type": "code",
      "execution_count": 1,
      "metadata": {
        "id": "sD9nc-8xU9hq"
      },
      "outputs": [],
      "source": [
        "import nltk"
      ]
    },
    {
      "cell_type": "code",
      "source": [
        "nltk.download('stopwords')\n",
        "nltk.download('rslp')"
      ],
      "metadata": {
        "colab": {
          "base_uri": "https://localhost:8080/"
        },
        "id": "y4naFulPcHEn",
        "outputId": "22d90a6f-b01a-4ad6-c279-5efa04b49e70"
      },
      "execution_count": 2,
      "outputs": [
        {
          "output_type": "stream",
          "name": "stderr",
          "text": [
            "[nltk_data] Downloading package stopwords to /root/nltk_data...\n",
            "[nltk_data]   Unzipping corpora/stopwords.zip.\n",
            "[nltk_data] Downloading package rslp to /root/nltk_data...\n",
            "[nltk_data]   Unzipping stemmers/rslp.zip.\n"
          ]
        },
        {
          "output_type": "execute_result",
          "data": {
            "text/plain": [
              "True"
            ]
          },
          "metadata": {},
          "execution_count": 2
        }
      ]
    },
    {
      "cell_type": "markdown",
      "source": [
        "## Pré-processamento dos textos"
      ],
      "metadata": {
        "id": "WBGMnp8xi_6W"
      }
    },
    {
      "cell_type": "markdown",
      "source": [
        "### Base de dados de frases"
      ],
      "metadata": {
        "id": "svbR98YodLpv"
      }
    },
    {
      "cell_type": "code",
      "source": [
        "base = [('eu sou admirada por muitos','alegria'),\n",
        "        ('me sinto completamente amado','alegria'),\n",
        "        ('amar e maravilhoso','alegria'),\n",
        "        ('estou me sentindo muito animado novamente','alegria'),\n",
        "        ('eu estou muito bem hoje','alegria'),\n",
        "        ('que belo dia para dirigir um carro novo','alegria'),\n",
        "        ('o dia está muito bonito','alegria'),\n",
        "        ('estou contente com o resultado do teste que fiz no dia de ontem','alegria'),\n",
        "        ('o amor e lindo','alegria'),\n",
        "        ('nossa amizade e amor vai durar para sempre', 'alegria'),\n",
        "        ('estou amedrontado', 'medo'),\n",
        "        ('ele esta me ameacando a dias', 'medo'),\n",
        "        ('isso me deixa apavorada', 'medo'),\n",
        "        ('este lugar e apavorante', 'medo'),\n",
        "        ('se perdermos outro jogo seremos eliminados e isso me deixa com pavor', 'medo'),\n",
        "        ('tome cuidado com o lobisomem', 'medo'),\n",
        "        ('se eles descobrirem estamos encrencados', 'medo'),\n",
        "        ('estou tremendo de medo', 'medo'),\n",
        "        ('eu tenho muito medo dele', 'medo'),\n",
        "        ('estou com medo do resultado dos meus testes', 'medo')]"
      ],
      "metadata": {
        "id": "XKEkTCWvXEmi"
      },
      "execution_count": 3,
      "outputs": []
    },
    {
      "cell_type": "markdown",
      "source": [
        "### Lista de stopwords"
      ],
      "metadata": {
        "id": "wQEcdhgxdkfv"
      }
    },
    {
      "cell_type": "code",
      "source": [
        "stopwords = nltk.corpus.stopwords.words('portuguese')"
      ],
      "metadata": {
        "id": "7EF-rLi4an6v"
      },
      "execution_count": 4,
      "outputs": []
    },
    {
      "cell_type": "markdown",
      "source": [
        "### Extração do radical das palavras (stemming) e remoção de stopwords"
      ],
      "metadata": {
        "id": "jkEBaxcGdbTN"
      }
    },
    {
      "cell_type": "code",
      "source": [
        "def aplica_stemmer(texto):\n",
        "  stemmer = nltk.stem.RSLPStemmer()\n",
        "  frases_stemming = []\n",
        "  for (palavras, emocao) in texto:\n",
        "    com_stemming = [str(stemmer.stem(p)) for p in palavras.split() if p not in stopwords]\n",
        "    frases_stemming.append((com_stemming, emocao))\n",
        "  return frases_stemming"
      ],
      "metadata": {
        "id": "EO44fbBxd1b2"
      },
      "execution_count": 5,
      "outputs": []
    },
    {
      "cell_type": "markdown",
      "source": [
        "#### Lista de frases com stemming e sem stopwords"
      ],
      "metadata": {
        "id": "zMU9bqcthMjI"
      }
    },
    {
      "cell_type": "code",
      "source": [
        "frases_com_stemming = aplica_stemmer(base)"
      ],
      "metadata": {
        "id": "LMYNBwiOhNpY"
      },
      "execution_count": 6,
      "outputs": []
    },
    {
      "cell_type": "code",
      "source": [
        "print(frases_com_stemming)"
      ],
      "metadata": {
        "colab": {
          "base_uri": "https://localhost:8080/"
        },
        "id": "hd_54mnNcNC6",
        "outputId": "af4ac8d3-8a08-44f7-9862-bae0cb022bef"
      },
      "execution_count": 7,
      "outputs": [
        {
          "output_type": "stream",
          "name": "stdout",
          "text": [
            "[(['admir', 'muit'], 'alegria'), (['sint', 'complet', 'am'], 'alegria'), (['am', 'maravilh'], 'alegria'), (['sent', 'anim', 'nov'], 'alegria'), (['bem', 'hoj'], 'alegria'), (['bel', 'dia', 'dirig', 'carr', 'nov'], 'alegria'), (['dia', 'bonit'], 'alegria'), (['cont', 'result', 'test', 'fiz', 'dia', 'ont'], 'alegria'), (['am', 'lind'], 'alegria'), (['amizad', 'am', 'vai', 'dur', 'sempr'], 'alegria'), (['amedront'], 'medo'), (['ameac', 'dia'], 'medo'), (['deix', 'apavor'], 'medo'), (['lug', 'apavor'], 'medo'), (['perd', 'outr', 'jog', 'elimin', 'deix', 'pav'], 'medo'), (['tom', 'cuid', 'lobisom'], 'medo'), (['descobr', 'encrenc'], 'medo'), (['trem', 'med'], 'medo'), (['med'], 'medo'), (['med', 'result', 'test'], 'medo')]\n"
          ]
        }
      ]
    },
    {
      "cell_type": "markdown",
      "source": [
        "## Listagem e tratamento de todas as palavras da base"
      ],
      "metadata": {
        "id": "4YG-rsYDS-sm"
      }
    },
    {
      "cell_type": "code",
      "source": [
        "def busca_palavras(frases):\n",
        "  todas_palavras = []\n",
        "  for (palavras, emocao) in frases:\n",
        "    todas_palavras.extend(palavras)\n",
        "  return todas_palavras\n"
      ],
      "metadata": {
        "id": "-sMw9W-mTITC"
      },
      "execution_count": 8,
      "outputs": []
    },
    {
      "cell_type": "markdown",
      "source": [
        "#### Lista de palavras da base"
      ],
      "metadata": {
        "id": "c2d42oF0T_OT"
      }
    },
    {
      "cell_type": "code",
      "source": [
        "palavras = busca_palavras(frases_com_stemming)"
      ],
      "metadata": {
        "id": "VJJn_RBJT3tN"
      },
      "execution_count": 17,
      "outputs": []
    },
    {
      "cell_type": "code",
      "source": [
        "print(palavras)"
      ],
      "metadata": {
        "colab": {
          "base_uri": "https://localhost:8080/"
        },
        "id": "UWAm9mxi6vdN",
        "outputId": "d128138b-09d1-4978-8abb-25de19ab4d40"
      },
      "execution_count": 18,
      "outputs": [
        {
          "output_type": "stream",
          "name": "stdout",
          "text": [
            "['admir', 'muit', 'sint', 'complet', 'am', 'am', 'maravilh', 'sent', 'anim', 'nov', 'bem', 'hoj', 'bel', 'dia', 'dirig', 'carr', 'nov', 'dia', 'bonit', 'cont', 'result', 'test', 'fiz', 'dia', 'ont', 'am', 'lind', 'amizad', 'am', 'vai', 'dur', 'sempr', 'amedront', 'ameac', 'dia', 'deix', 'apavor', 'lug', 'apavor', 'perd', 'outr', 'jog', 'elimin', 'deix', 'pav', 'tom', 'cuid', 'lobisom', 'descobr', 'encrenc', 'trem', 'med', 'med', 'med', 'result', 'test']\n"
          ]
        }
      ]
    },
    {
      "cell_type": "markdown",
      "source": [
        "### Extração de palavras únicas"
      ],
      "metadata": {
        "id": "_UbgnabLUg1o"
      }
    },
    {
      "cell_type": "code",
      "source": [
        "def busca_frequencia(palavras):\n",
        "  palavras = nltk.FreqDist(palavras)\n",
        "  return palavras"
      ],
      "metadata": {
        "id": "jkC-ElvlVF2S"
      },
      "execution_count": 10,
      "outputs": []
    },
    {
      "cell_type": "markdown",
      "source": [
        "#### Lista de palavras com a frequencia"
      ],
      "metadata": {
        "id": "lu-ySG_dVypG"
      }
    },
    {
      "cell_type": "code",
      "source": [
        "frequencia = busca_frequencia(palavras)"
      ],
      "metadata": {
        "id": "r6GZFNS4V245"
      },
      "execution_count": 19,
      "outputs": []
    },
    {
      "cell_type": "code",
      "source": [
        "print(frequencia.most_common(50))"
      ],
      "metadata": {
        "colab": {
          "base_uri": "https://localhost:8080/"
        },
        "id": "kJPZeWFZ63Mb",
        "outputId": "feeb9037-15db-4693-c2c0-d2b4eb36aec5"
      },
      "execution_count": 20,
      "outputs": [
        {
          "output_type": "stream",
          "name": "stdout",
          "text": [
            "[('am', 4), ('dia', 4), ('med', 3), ('nov', 2), ('result', 2), ('test', 2), ('deix', 2), ('apavor', 2), ('admir', 1), ('muit', 1), ('sint', 1), ('complet', 1), ('maravilh', 1), ('sent', 1), ('anim', 1), ('bem', 1), ('hoj', 1), ('bel', 1), ('dirig', 1), ('carr', 1), ('bonit', 1), ('cont', 1), ('fiz', 1), ('ont', 1), ('lind', 1), ('amizad', 1), ('vai', 1), ('dur', 1), ('sempr', 1), ('amedront', 1), ('ameac', 1), ('lug', 1), ('perd', 1), ('outr', 1), ('jog', 1), ('elimin', 1), ('pav', 1), ('tom', 1), ('cuid', 1), ('lobisom', 1), ('descobr', 1), ('encrenc', 1), ('trem', 1)]\n"
          ]
        }
      ]
    },
    {
      "cell_type": "markdown",
      "source": [
        "#### Remoção de palavras repetidas"
      ],
      "metadata": {
        "id": "WWiWC66cW_IP"
      }
    },
    {
      "cell_type": "code",
      "source": [
        "def busca_palavras_unicas(frequencia):\n",
        "  palavras_unicas = frequencia.keys()\n",
        "  return palavras_unicas"
      ],
      "metadata": {
        "id": "miQB7e-2Wvb2"
      },
      "execution_count": 12,
      "outputs": []
    },
    {
      "cell_type": "markdown",
      "source": [
        "#### Lista de palavras unicas"
      ],
      "metadata": {
        "id": "kiJ_oC8DXtRr"
      }
    },
    {
      "cell_type": "code",
      "source": [
        "palavras_unicas = busca_palavras_unicas(frequencia)"
      ],
      "metadata": {
        "id": "lwzBoR0hXwD9"
      },
      "execution_count": 21,
      "outputs": []
    },
    {
      "cell_type": "code",
      "source": [
        "print(palavras_unicas)"
      ],
      "metadata": {
        "colab": {
          "base_uri": "https://localhost:8080/"
        },
        "id": "I9GPeJvT67-x",
        "outputId": "25812cdc-0003-4b48-9a1f-160a68597436"
      },
      "execution_count": 22,
      "outputs": [
        {
          "output_type": "stream",
          "name": "stdout",
          "text": [
            "dict_keys(['admir', 'muit', 'sint', 'complet', 'am', 'maravilh', 'sent', 'anim', 'nov', 'bem', 'hoj', 'bel', 'dia', 'dirig', 'carr', 'bonit', 'cont', 'result', 'test', 'fiz', 'ont', 'lind', 'amizad', 'vai', 'dur', 'sempr', 'amedront', 'ameac', 'deix', 'apavor', 'lug', 'perd', 'outr', 'jog', 'elimin', 'pav', 'tom', 'cuid', 'lobisom', 'descobr', 'encrenc', 'trem', 'med'])\n"
          ]
        }
      ]
    },
    {
      "cell_type": "markdown",
      "source": [
        "### Extração de palavras/caracteristicas de cada frase"
      ],
      "metadata": {
        "id": "7fmxgge8acUB"
      }
    },
    {
      "cell_type": "code",
      "source": [
        "def extrator_palavras(documento):\n",
        "  doc = set(documento)\n",
        "  caracteristicas = {}\n",
        "  for palavras in palavras_unicas:\n",
        "    caracteristicas['%s' % palavras] = (palavras in doc)\n",
        "  return caracteristicas"
      ],
      "metadata": {
        "id": "Wqfurr9SaomL"
      },
      "execution_count": 14,
      "outputs": []
    },
    {
      "cell_type": "markdown",
      "source": [
        "#### Lista com caracteristicas (True / False) de palavras"
      ],
      "metadata": {
        "id": "Cc6SgoHwbXsS"
      }
    },
    {
      "cell_type": "code",
      "source": [
        "caracteristicas_frase = extrator_palavras(['am', 'nov', 'dia'])"
      ],
      "metadata": {
        "id": "80UKA5yobbgh"
      },
      "execution_count": 23,
      "outputs": []
    },
    {
      "cell_type": "code",
      "source": [
        "print(caracteristicas_frase)"
      ],
      "metadata": {
        "colab": {
          "base_uri": "https://localhost:8080/"
        },
        "id": "M3Gp4amv6_Uo",
        "outputId": "2a5c0e54-ce2d-4eef-88cc-82f8ce8ff41a"
      },
      "execution_count": 24,
      "outputs": [
        {
          "output_type": "stream",
          "name": "stdout",
          "text": [
            "{'admir': False, 'muit': False, 'sint': False, 'complet': False, 'am': True, 'maravilh': False, 'sent': False, 'anim': False, 'nov': True, 'bem': False, 'hoj': False, 'bel': False, 'dia': True, 'dirig': False, 'carr': False, 'bonit': False, 'cont': False, 'result': False, 'test': False, 'fiz': False, 'ont': False, 'lind': False, 'amizad': False, 'vai': False, 'dur': False, 'sempr': False, 'amedront': False, 'ameac': False, 'deix': False, 'apavor': False, 'lug': False, 'perd': False, 'outr': False, 'jog': False, 'elimin': False, 'pav': False, 'tom': False, 'cuid': False, 'lobisom': False, 'descobr': False, 'encrenc': False, 'trem': False, 'med': False}\n"
          ]
        }
      ]
    },
    {
      "cell_type": "markdown",
      "source": [
        "### Extração das palavras/caracteristicas de todas as frases"
      ],
      "metadata": {
        "id": "sITDuTQadBbO"
      }
    },
    {
      "cell_type": "code",
      "source": [
        "base_completa = nltk.apply_features(extrator_palavras, frases_com_stemming)"
      ],
      "metadata": {
        "id": "L-kC3t_KdEnT"
      },
      "execution_count": 25,
      "outputs": []
    },
    {
      "cell_type": "code",
      "source": [
        "print(base_completa)"
      ],
      "metadata": {
        "colab": {
          "base_uri": "https://localhost:8080/"
        },
        "id": "G7UTVj8J7CHx",
        "outputId": "eb4485b2-a362-4ecb-f943-793416c18780"
      },
      "execution_count": 26,
      "outputs": [
        {
          "output_type": "stream",
          "name": "stdout",
          "text": [
            "[({'admir': True, 'muit': True, 'sint': False, 'complet': False, 'am': False, 'maravilh': False, 'sent': False, 'anim': False, 'nov': False, 'bem': False, 'hoj': False, 'bel': False, 'dia': False, 'dirig': False, 'carr': False, 'bonit': False, 'cont': False, 'result': False, 'test': False, 'fiz': False, 'ont': False, 'lind': False, 'amizad': False, 'vai': False, 'dur': False, 'sempr': False, 'amedront': False, 'ameac': False, 'deix': False, 'apavor': False, 'lug': False, 'perd': False, 'outr': False, 'jog': False, 'elimin': False, 'pav': False, 'tom': False, 'cuid': False, 'lobisom': False, 'descobr': False, 'encrenc': False, 'trem': False, 'med': False}, 'alegria'), ({'admir': False, 'muit': False, 'sint': True, 'complet': True, 'am': True, 'maravilh': False, 'sent': False, 'anim': False, 'nov': False, 'bem': False, 'hoj': False, 'bel': False, 'dia': False, 'dirig': False, 'carr': False, 'bonit': False, 'cont': False, 'result': False, 'test': False, 'fiz': False, 'ont': False, 'lind': False, 'amizad': False, 'vai': False, 'dur': False, 'sempr': False, 'amedront': False, 'ameac': False, 'deix': False, 'apavor': False, 'lug': False, 'perd': False, 'outr': False, 'jog': False, 'elimin': False, 'pav': False, 'tom': False, 'cuid': False, 'lobisom': False, 'descobr': False, 'encrenc': False, 'trem': False, 'med': False}, 'alegria'), ...]\n"
          ]
        }
      ]
    },
    {
      "cell_type": "markdown",
      "source": [
        "## Classificando textos com o Naïve Bayes"
      ],
      "metadata": {
        "id": "aY6OrJNQ56rZ"
      }
    },
    {
      "cell_type": "markdown",
      "source": [
        "### Construindo a tabela de probabilidade\n"
      ],
      "metadata": {
        "id": "0sXqikOI6GMr"
      }
    },
    {
      "cell_type": "code",
      "source": [
        "classificador = nltk.NaiveBayesClassifier.train(base_completa)"
      ],
      "metadata": {
        "id": "Pafqg9bJ5_CB"
      },
      "execution_count": 27,
      "outputs": []
    },
    {
      "cell_type": "code",
      "source": [
        "print(classificador.labels())\n",
        "print(classificador.show_most_informative_features(5))"
      ],
      "metadata": {
        "colab": {
          "base_uri": "https://localhost:8080/"
        },
        "id": "_-tB3e1E74rb",
        "outputId": "588582b5-8bf3-4e42-c184-41db4b78cfa0"
      },
      "execution_count": 34,
      "outputs": [
        {
          "output_type": "stream",
          "name": "stdout",
          "text": [
            "['alegria', 'medo']\n",
            "Most Informative Features\n",
            "                     dia = True           alegri : medo   =      2.3 : 1.0\n",
            "                      am = False            medo : alegri =      1.6 : 1.0\n",
            "                     med = False          alegri : medo   =      1.4 : 1.0\n",
            "                     dia = False            medo : alegri =      1.3 : 1.0\n",
            "                  apavor = False          alegri : medo   =      1.2 : 1.0\n",
            "None\n"
          ]
        }
      ]
    },
    {
      "cell_type": "markdown",
      "source": [
        "### Testes"
      ],
      "metadata": {
        "id": "5ZJVf7o299Yx"
      }
    },
    {
      "cell_type": "code",
      "source": [
        "teste = 'estou com medo'\n",
        "\n",
        "teste_stemming = []\n",
        "stemmer = nltk.stem.RSLPStemmer()\n",
        "for (palavras) in teste.split():\n",
        "  com_stem = [p for p in palavras.split()]\n",
        "  teste_stemming.append(str(stemmer.stem(com_stem[0])))\n",
        "# print(teste_stemming)\n",
        "\n",
        "novo = extrator_palavras(teste_stemming)\n",
        "# print(novo)\n",
        "\n",
        "print(classificador.classify(novo))\n",
        "distribuicao = classificador.prob_classify(novo)\n",
        "for classe in distribuicao.samples():\n",
        "  print(\"%s: %f\" % (classe, distribuicao.prob(classe)))\n"
      ],
      "metadata": {
        "colab": {
          "base_uri": "https://localhost:8080/"
        },
        "id": "8Ff0BZH5-Ap3",
        "outputId": "9ef7622c-c38d-497d-9e34-0c41b9db1972"
      },
      "execution_count": 43,
      "outputs": [
        {
          "output_type": "stream",
          "name": "stdout",
          "text": [
            "medo\n",
            "alegria: 0.041046\n",
            "medo: 0.958954\n"
          ]
        }
      ]
    }
  ]
}